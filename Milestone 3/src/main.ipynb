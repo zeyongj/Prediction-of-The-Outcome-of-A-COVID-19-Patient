{
  "nbformat": 4,
  "nbformat_minor": 0,
  "metadata": {
    "colab": {
      "name": "main.ipynb",
      "provenance": [],
      "collapsed_sections": []
    },
    "kernelspec": {
      "display_name": "Python 3",
      "language": "python",
      "name": "python3"
    },
    "language_info": {
      "codemirror_mode": {
        "name": "ipython",
        "version": 3
      },
      "file_extension": ".py",
      "mimetype": "text/x-python",
      "name": "python",
      "nbconvert_exporter": "python",
      "pygments_lexer": "ipython3",
      "version": "3.8.5"
    }
  },
  "cells": [
    {
      "cell_type": "code",
      "metadata": {
        "id": "-wcizDSXoz7v"
      },
      "source": [
        "import numpy as np\n",
        "import pandas as pd\n",
        "from sklearn.linear_model import LinearRegression\n",
        "import matplotlib.pyplot as plt\n",
        "from sklearn.model_selection import train_test_split\n",
        "import warnings\n",
        "import seaborn as sns\n",
        "import datetime\n",
        "warnings.filterwarnings(\"ignore\")"
      ],
      "execution_count": null,
      "outputs": []
    },
    {
      "cell_type": "code",
      "metadata": {
        "id": "eSxDxrADoz71"
      },
      "source": [
        "data=pd.read_csv('./data/cases_train_processed.csv')\n"
      ],
      "execution_count": null,
      "outputs": []
    },
    {
      "cell_type": "code",
      "metadata": {
        "id": "wM1Z9tZhlWlq"
      },
      "source": [
        "test_data=pd.read_csv('./data/cases_test_processed.csv')"
      ],
      "execution_count": null,
      "outputs": []
    },
    {
      "cell_type": "code",
      "metadata": {
        "id": "ZOnIwVkUlWlr",
        "outputId": "b4a68883-c29e-427c-e236-1ace012554c2"
      },
      "source": [
        "data.outcome.unique()"
      ],
      "execution_count": null,
      "outputs": [
        {
          "output_type": "execute_result",
          "data": {
            "text/plain": [
              "array(['recovered', 'hospitalized', 'nonhospitalized', 'deceased'],\n",
              "      dtype=object)"
            ]
          },
          "metadata": {
            "tags": []
          },
          "execution_count": 4
        }
      ]
    },
    {
      "cell_type": "code",
      "metadata": {
        "id": "ChlwqC4Toz78"
      },
      "source": [
        "data['age']=data['age'].fillna(np.mean(data['age']))\n",
        "data['sex']=data['sex'].fillna(999)\n",
        "data['date_confirmation']=data['date_confirmation'].fillna(data.date_confirmation.mode()[0])\n",
        "data['source']=data['source'].fillna(data.source.mode()[0])"
      ],
      "execution_count": null,
      "outputs": []
    },
    {
      "cell_type": "code",
      "metadata": {
        "id": "qDV1WtcPlWlu"
      },
      "source": [
        "test_data['age']=test_data['age'].fillna(np.mean(test_data['age']))\n",
        "test_data['sex']=test_data['sex'].fillna(999)\n",
        "test_data['date_confirmation']=test_data['date_confirmation'].fillna(test_data.date_confirmation.mode()[0])\n",
        "test_data['source']=test_data['source'].fillna(test_data.source.mode()[0])"
      ],
      "execution_count": null,
      "outputs": []
    },
    {
      "cell_type": "code",
      "metadata": {
        "id": "VjkQFbESlWlv",
        "outputId": "9418c0ef-1e00-4d30-ed3d-6130f65b1e6b"
      },
      "source": [
        "data.columns"
      ],
      "execution_count": null,
      "outputs": [
        {
          "output_type": "execute_result",
          "data": {
            "text/plain": [
              "Index(['age', 'sex', 'province', 'country', 'latitude', 'longitude',\n",
              "       'date_confirmation', 'additional_information', 'source', 'outcome',\n",
              "       'Last_Update', 'Lat', 'Long_', 'Confirmed', 'Deaths', 'Recovered',\n",
              "       'Active', 'Combined_Key', 'Incidence_Rate', 'Case_Fatality_Ratio'],\n",
              "      dtype='object')"
            ]
          },
          "metadata": {
            "tags": []
          },
          "execution_count": 7
        }
      ]
    },
    {
      "cell_type": "code",
      "metadata": {
        "id": "DOtKTKeolWlw",
        "outputId": "57797c8d-c3b6-4cfb-fc6c-e0c9b6a49f52"
      },
      "source": [
        "test_data.columns"
      ],
      "execution_count": null,
      "outputs": [
        {
          "output_type": "execute_result",
          "data": {
            "text/plain": [
              "Index(['age', 'sex', 'province', 'country', 'latitude', 'longitude',\n",
              "       'date_confirmation', 'source', 'outcome', 'area_last_update',\n",
              "       'area_confirmed_cases', 'area_deaths_cases', 'area_recovered_case',\n",
              "       'area_active_cases', 'location_info', 'area_incidence_rate',\n",
              "       'area_case_fatality_ratio'],\n",
              "      dtype='object')"
            ]
          },
          "metadata": {
            "tags": []
          },
          "execution_count": 8
        }
      ]
    },
    {
      "cell_type": "code",
      "metadata": {
        "id": "F2NQQrQKoM73"
      },
      "source": [
        "del data['additional_information']\n",
        "del data['Lat']\n",
        "del data['Long_']\n",
        "\n",
        "test_data.columns=data.columns"
      ],
      "execution_count": null,
      "outputs": []
    },
    {
      "cell_type": "code",
      "metadata": {
        "id": "Bvx5LOraoz8B"
      },
      "source": [
        "for col in data.columns:\n",
        "    if data[col].dtype=='object':\n",
        "        data[col]=data[col].fillna(data[col].mode()[0])\n",
        "    else:\n",
        "        data[col]=data[col].fillna(np.mean(data[col]))\n",
        "        \n",
        "for col in test_data.columns:\n",
        "    if test_data[col].dtype=='object':\n",
        "        test_data[col]=test_data[col].fillna(test_data[col].mode()[0])\n",
        "    else:\n",
        "        test_data[col]=test_data[col].fillna(np.mean(test_data[col]))"
      ],
      "execution_count": null,
      "outputs": []
    },
    {
      "cell_type": "code",
      "metadata": {
        "colab": {
          "base_uri": "https://localhost:8080/"
        },
        "id": "R43nM4dIoz8C",
        "outputId": "5da03f1d-336f-43e0-ff1d-06160b920643"
      },
      "source": [
        "test_data.isna().sum()"
      ],
      "execution_count": null,
      "outputs": [
        {
          "output_type": "execute_result",
          "data": {
            "text/plain": [
              "age                        0\n",
              "sex                        0\n",
              "province                   0\n",
              "country                    0\n",
              "latitude                   0\n",
              "longitude                  0\n",
              "date_confirmation          0\n",
              "source                     0\n",
              "outcome                46500\n",
              "Last_Update                0\n",
              "Confirmed                  0\n",
              "Deaths                     0\n",
              "Recovered                  0\n",
              "Active                     0\n",
              "Combined_Key               0\n",
              "Incidence_Rate             0\n",
              "Case_Fatality_Ratio        0\n",
              "dtype: int64"
            ]
          },
          "metadata": {
            "tags": []
          },
          "execution_count": 11
        }
      ]
    },
    {
      "cell_type": "code",
      "metadata": {
        "colab": {
          "base_uri": "https://localhost:8080/"
        },
        "id": "anZM6dw5oz8D",
        "outputId": "c6905701-03da-4bbb-8ed9-d6ec5ce64107"
      },
      "source": [
        "data.nunique()"
      ],
      "execution_count": null,
      "outputs": [
        {
          "output_type": "execute_result",
          "data": {
            "text/plain": [
              "age                     156\n",
              "sex                       3\n",
              "province               1106\n",
              "country                  66\n",
              "latitude               7110\n",
              "longitude              7107\n",
              "date_confirmation       154\n",
              "source                 6841\n",
              "outcome                   4\n",
              "Last_Update               1\n",
              "Confirmed               364\n",
              "Deaths                  302\n",
              "Recovered               264\n",
              "Active                  332\n",
              "Combined_Key            370\n",
              "Incidence_Rate          371\n",
              "Case_Fatality_Ratio     360\n",
              "dtype: int64"
            ]
          },
          "metadata": {
            "tags": []
          },
          "execution_count": 12
        }
      ]
    },
    {
      "cell_type": "code",
      "metadata": {
        "id": "tyw2L_rNlWl0",
        "outputId": "d5c6b053-df81-40fd-cd68-f9ac25ba90d1"
      },
      "source": [
        "data.outcome.unique()"
      ],
      "execution_count": null,
      "outputs": [
        {
          "output_type": "execute_result",
          "data": {
            "text/plain": [
              "array(['recovered', 'hospitalized', 'nonhospitalized', 'deceased'],\n",
              "      dtype=object)"
            ]
          },
          "metadata": {
            "tags": []
          },
          "execution_count": 13
        }
      ]
    },
    {
      "cell_type": "code",
      "metadata": {
        "id": "MyAVsq1slWl1",
        "outputId": "32417588-6556-4968-ee2f-2a7e372705b4"
      },
      "source": [
        "test_data.head()"
      ],
      "execution_count": null,
      "outputs": [
        {
          "output_type": "execute_result",
          "data": {
            "text/html": [
              "<div>\n",
              "<style scoped>\n",
              "    .dataframe tbody tr th:only-of-type {\n",
              "        vertical-align: middle;\n",
              "    }\n",
              "\n",
              "    .dataframe tbody tr th {\n",
              "        vertical-align: top;\n",
              "    }\n",
              "\n",
              "    .dataframe thead th {\n",
              "        text-align: right;\n",
              "    }\n",
              "</style>\n",
              "<table border=\"1\" class=\"dataframe\">\n",
              "  <thead>\n",
              "    <tr style=\"text-align: right;\">\n",
              "      <th></th>\n",
              "      <th>age</th>\n",
              "      <th>sex</th>\n",
              "      <th>province</th>\n",
              "      <th>country</th>\n",
              "      <th>latitude</th>\n",
              "      <th>longitude</th>\n",
              "      <th>date_confirmation</th>\n",
              "      <th>source</th>\n",
              "      <th>outcome</th>\n",
              "      <th>Last_Update</th>\n",
              "      <th>Confirmed</th>\n",
              "      <th>Deaths</th>\n",
              "      <th>Recovered</th>\n",
              "      <th>Active</th>\n",
              "      <th>Combined_Key</th>\n",
              "      <th>Incidence_Rate</th>\n",
              "      <th>Case_Fatality_Ratio</th>\n",
              "    </tr>\n",
              "  </thead>\n",
              "  <tbody>\n",
              "    <tr>\n",
              "      <th>0</th>\n",
              "      <td>54</td>\n",
              "      <td>male</td>\n",
              "      <td>Rajasthan</td>\n",
              "      <td>India</td>\n",
              "      <td>24.587000</td>\n",
              "      <td>73.69848</td>\n",
              "      <td>11.05.2020</td>\n",
              "      <td>https://t.me/indiacovid/4565</td>\n",
              "      <td>NaN</td>\n",
              "      <td>2020-09-20 04:22:56</td>\n",
              "      <td>111290.0</td>\n",
              "      <td>1308.0</td>\n",
              "      <td>92265.0</td>\n",
              "      <td>17717.0</td>\n",
              "      <td>Rajasthan, India</td>\n",
              "      <td>137.339636</td>\n",
              "      <td>1.175308</td>\n",
              "    </tr>\n",
              "    <tr>\n",
              "      <th>1</th>\n",
              "      <td>25</td>\n",
              "      <td>male</td>\n",
              "      <td>Bayern</td>\n",
              "      <td>Germany</td>\n",
              "      <td>49.993767</td>\n",
              "      <td>9.66288</td>\n",
              "      <td>09.04.2020</td>\n",
              "      <td>Unknown</td>\n",
              "      <td>NaN</td>\n",
              "      <td>2020-09-20 04:22:56</td>\n",
              "      <td>64465.0</td>\n",
              "      <td>2648.0</td>\n",
              "      <td>56398.0</td>\n",
              "      <td>5419.0</td>\n",
              "      <td>Bayern, Germany</td>\n",
              "      <td>492.975265</td>\n",
              "      <td>4.107655</td>\n",
              "    </tr>\n",
              "    <tr>\n",
              "      <th>2</th>\n",
              "      <td>70</td>\n",
              "      <td>male</td>\n",
              "      <td>Maharashtra</td>\n",
              "      <td>India</td>\n",
              "      <td>19.200000</td>\n",
              "      <td>72.96667</td>\n",
              "      <td>23.05.2020</td>\n",
              "      <td>https://phdmah.maps.arcgis.com/apps/opsdashboa...</td>\n",
              "      <td>NaN</td>\n",
              "      <td>2020-09-20 04:22:56</td>\n",
              "      <td>1167496.0</td>\n",
              "      <td>31791.0</td>\n",
              "      <td>834432.0</td>\n",
              "      <td>301273.0</td>\n",
              "      <td>Maharashtra, India</td>\n",
              "      <td>948.072083</td>\n",
              "      <td>2.723007</td>\n",
              "    </tr>\n",
              "    <tr>\n",
              "      <th>3</th>\n",
              "      <td>55</td>\n",
              "      <td>male</td>\n",
              "      <td>Madhya Pradesh</td>\n",
              "      <td>India</td>\n",
              "      <td>23.180870</td>\n",
              "      <td>75.78816</td>\n",
              "      <td>22.05.2020</td>\n",
              "      <td>https://twitter.com/JansamparkMP/status/126384...</td>\n",
              "      <td>NaN</td>\n",
              "      <td>2020-09-20 04:22:56</td>\n",
              "      <td>100458.0</td>\n",
              "      <td>1901.0</td>\n",
              "      <td>76952.0</td>\n",
              "      <td>21605.0</td>\n",
              "      <td>Madhya Pradesh, India</td>\n",
              "      <td>117.688868</td>\n",
              "      <td>1.892333</td>\n",
              "    </tr>\n",
              "    <tr>\n",
              "      <th>4</th>\n",
              "      <td>56</td>\n",
              "      <td>female</td>\n",
              "      <td>Lima</td>\n",
              "      <td>Peru</td>\n",
              "      <td>-12.003950</td>\n",
              "      <td>-77.00695</td>\n",
              "      <td>19.04.2020</td>\n",
              "      <td>Unknown</td>\n",
              "      <td>NaN</td>\n",
              "      <td>2020-09-20 04:22:56</td>\n",
              "      <td>349167.0</td>\n",
              "      <td>14009.0</td>\n",
              "      <td>0.0</td>\n",
              "      <td>335158.0</td>\n",
              "      <td>Lima, Peru</td>\n",
              "      <td>3285.195465</td>\n",
              "      <td>4.012120</td>\n",
              "    </tr>\n",
              "  </tbody>\n",
              "</table>\n",
              "</div>"
            ],
            "text/plain": [
              "   age     sex        province  country   latitude  longitude  \\\n",
              "0   54    male       Rajasthan    India  24.587000   73.69848   \n",
              "1   25    male          Bayern  Germany  49.993767    9.66288   \n",
              "2   70    male     Maharashtra    India  19.200000   72.96667   \n",
              "3   55    male  Madhya Pradesh    India  23.180870   75.78816   \n",
              "4   56  female            Lima     Peru -12.003950  -77.00695   \n",
              "\n",
              "  date_confirmation                                             source  \\\n",
              "0        11.05.2020                       https://t.me/indiacovid/4565   \n",
              "1        09.04.2020                                            Unknown   \n",
              "2        23.05.2020  https://phdmah.maps.arcgis.com/apps/opsdashboa...   \n",
              "3        22.05.2020  https://twitter.com/JansamparkMP/status/126384...   \n",
              "4        19.04.2020                                            Unknown   \n",
              "\n",
              "   outcome          Last_Update  Confirmed   Deaths  Recovered    Active  \\\n",
              "0      NaN  2020-09-20 04:22:56   111290.0   1308.0    92265.0   17717.0   \n",
              "1      NaN  2020-09-20 04:22:56    64465.0   2648.0    56398.0    5419.0   \n",
              "2      NaN  2020-09-20 04:22:56  1167496.0  31791.0   834432.0  301273.0   \n",
              "3      NaN  2020-09-20 04:22:56   100458.0   1901.0    76952.0   21605.0   \n",
              "4      NaN  2020-09-20 04:22:56   349167.0  14009.0        0.0  335158.0   \n",
              "\n",
              "            Combined_Key  Incidence_Rate  Case_Fatality_Ratio  \n",
              "0       Rajasthan, India      137.339636             1.175308  \n",
              "1        Bayern, Germany      492.975265             4.107655  \n",
              "2     Maharashtra, India      948.072083             2.723007  \n",
              "3  Madhya Pradesh, India      117.688868             1.892333  \n",
              "4             Lima, Peru     3285.195465             4.012120  "
            ]
          },
          "metadata": {
            "tags": []
          },
          "execution_count": 14
        }
      ]
    },
    {
      "cell_type": "code",
      "metadata": {
        "id": "e0vKrUPxoz8H"
      },
      "source": [
        "def targetmap(x):\n",
        "    if x=='deceased':\n",
        "        return 0\n",
        "    elif x=='hospitalized':\n",
        "        return 1\n",
        "    elif x=='nonhospitalized':\n",
        "        return 2\n",
        "    else:\n",
        "        return 3\n",
        "        \n",
        "\n",
        "for col in ['Last_Update']:\n",
        "    data[col+'month']=data[col].apply(lambda x:int(str(x).split()[0].split('/')[1]))\n",
        "    data[col+'day']=data[col].apply(lambda x:int(str(x).split()[0].split('/')[2]))\n",
        "    del data[col]\n",
        "    \n",
        "for col in ['sex','province','country','source','Combined_Key']:\n",
        "    codes, uniques = pd.factorize(data[col])\n",
        "    data[col]=codes\n",
        "    \n",
        "data['outcome']=data['outcome'].map(targetmap)\n",
        "\n",
        "for col in ['Last_Update']:\n",
        "    test_data[col+'month']=test_data[col].apply(lambda x:int(str(x).split()[0].split('-')[1]))\n",
        "    test_data[col+'day']=test_data[col].apply(lambda x:int(str(x).split()[0].split('-')[2]))\n",
        "    del test_data[col]\n",
        "\n",
        "del data['date_confirmation']\n",
        "del test_data['date_confirmation']\n",
        "    \n",
        "\n",
        "    \n",
        "for col in ['sex','province','country','source','Combined_Key']:\n",
        "    codes, uniques = pd.factorize(test_data[col])\n",
        "    test_data[col]=codes"
      ],
      "execution_count": null,
      "outputs": []
    },
    {
      "cell_type": "markdown",
      "metadata": {
        "id": "NPZapOwJoz8L"
      },
      "source": [
        "2.split data"
      ]
    },
    {
      "cell_type": "code",
      "metadata": {
        "id": "B5UcSINWoz8M"
      },
      "source": [
        "cols=[col for col in data.columns if col!='outcome']"
      ],
      "execution_count": null,
      "outputs": []
    },
    {
      "cell_type": "code",
      "metadata": {
        "id": "Pw1Em-NIoz8N"
      },
      "source": [
        "y=data['outcome']\n",
        "X=data[cols]\n",
        "\n",
        "test_X=test_data[cols]\n",
        "test_y=test_data['outcome']"
      ],
      "execution_count": null,
      "outputs": []
    },
    {
      "cell_type": "code",
      "metadata": {
        "colab": {
          "base_uri": "https://localhost:8080/",
          "height": 689
        },
        "id": "FU2y0a5qoz8O",
        "outputId": "1e995bf5-5c3c-4d1f-be6b-041483502afd"
      },
      "source": [
        "import seaborn as sns\n",
        "sns.heatmap(X.corr())\n",
        "plt.title('features correlation')"
      ],
      "execution_count": null,
      "outputs": [
        {
          "output_type": "execute_result",
          "data": {
            "text/plain": [
              "Text(0.5, 1.0, 'features correlation')"
            ]
          },
          "metadata": {
            "tags": []
          },
          "execution_count": 18
        },
        {
          "output_type": "display_data",
          "data": {
            "image/png": "[encoded data removed]",
            "text/plain": [
              "<Figure size 432x288 with 2 Axes>"
            ]
          },
          "metadata": {
            "tags": [],
            "needs_background": "light"
          }
        }
      ]
    },
    {
      "cell_type": "code",
      "metadata": {
        "colab": {
          "base_uri": "https://localhost:8080/",
          "height": 265
        },
        "id": "qR_0gYY7oz8P",
        "outputId": "8d79a300-be70-4330-ca80-a20122d35930"
      },
      "source": [
        "plt.hist(data['sex'])\n",
        "plt.title('sex distribution')\n",
        "plt.show()"
      ],
      "execution_count": null,
      "outputs": [
        {
          "output_type": "display_data",
          "data": {
            "image/png": "[encoded data removed]",
            "text/plain": [
              "<Figure size 432x288 with 1 Axes>"
            ]
          },
          "metadata": {
            "tags": [],
            "needs_background": "light"
          }
        }
      ]
    },
    {
      "cell_type": "code",
      "metadata": {
        "colab": {
          "base_uri": "https://localhost:8080/",
          "height": 269
        },
        "id": "SB6s4v0Ooz8Q",
        "outputId": "a6f44ca7-c4bc-40e1-d06f-af27196c234c"
      },
      "source": [
        "plt.hist(y)\n",
        "plt.title('target distribution')\n",
        "plt.show()"
      ],
      "execution_count": null,
      "outputs": [
        {
          "output_type": "display_data",
          "data": {
            "image/png": "[encoded data removed]",
            "text/plain": [
              "<Figure size 432x288 with 1 Axes>"
            ]
          },
          "metadata": {
            "tags": [],
            "needs_background": "light"
          }
        }
      ]
    },
    {
      "cell_type": "code",
      "metadata": {
        "id": "oDlBhzsSoz8R"
      },
      "source": [
        "from sklearn.preprocessing import StandardScaler"
      ],
      "execution_count": null,
      "outputs": []
    },
    {
      "cell_type": "code",
      "metadata": {
        "id": "p9VIOKRpoz8R"
      },
      "source": [
        "sca=StandardScaler()\n",
        "X=sca.fit_transform(X)\n",
        "test_X=sca.fit_transform(test_X)"
      ],
      "execution_count": null,
      "outputs": []
    },
    {
      "cell_type": "code",
      "metadata": {
        "id": "e96iNqz9oz8S"
      },
      "source": [
        "X_train, X_val, y_train, y_val = train_test_split( X, y, test_size=0.2, random_state=42)"
      ],
      "execution_count": null,
      "outputs": []
    },
    {
      "cell_type": "markdown",
      "metadata": {
        "id": "iHRXz6iroz8T"
      },
      "source": [
        "3.build model"
      ]
    },
    {
      "cell_type": "code",
      "metadata": {
        "id": "2Wux_w_goz8T"
      },
      "source": [
        "import lightgbm as lgb\n",
        "from sklearn.svm import SVC\n",
        "from sklearn.metrics import accuracy_score\n",
        "from sklearn.metrics import f1_score\n",
        "\n",
        "from sklearn.neural_network import MLPClassifier\n",
        "import math\n",
        "import pickle\n",
        "from sklearn.metrics import classification_report"
      ],
      "execution_count": null,
      "outputs": []
    },
    {
      "cell_type": "code",
      "metadata": {
        "id": "OB_awPQBoz8U"
      },
      "source": [
        "def model_lgb_train(trainX,trainy,params):\n",
        "    model=lgb.LGBMClassifier(**params)\n",
        "    model.fit(trainX,trainy,early_stopping_rounds=30,eval_set=[(X_train, y_train),(X_val, y_val)],verbose=0)\n",
        "    return model\n",
        "\n",
        "def model_lgb_val(valX,model):\n",
        "    pred=model.predict(valX)\n",
        "    return pred"
      ],
      "execution_count": null,
      "outputs": []
    },
    {
      "cell_type": "code",
      "metadata": {
        "id": "GI88S2CPoz8V"
      },
      "source": [
        "def model_svr_train(trainX,trainy,params):\n",
        "    model=SVC(**params)\n",
        "    model.fit(trainX,trainy)\n",
        "    return model\n",
        "\n",
        "def model_svr_val(valX,model):\n",
        "    pred=model.predict(valX)\n",
        "    return pred"
      ],
      "execution_count": null,
      "outputs": []
    },
    {
      "cell_type": "code",
      "metadata": {
        "id": "LKelh8hOoz8W"
      },
      "source": [
        "def model_mlp_train(trainX,trainy,params):\n",
        "    model=MLPClassifier(**params)\n",
        "    model.fit(trainX,trainy)\n",
        "    return model\n",
        "\n",
        "def model_mlp_val(valX,model):\n",
        "    pred=model.predict(valX)\n",
        "    return pred"
      ],
      "execution_count": null,
      "outputs": []
    },
    {
      "cell_type": "code",
      "metadata": {
        "id": "KoAY-mHZlWmA",
        "outputId": "0072710f-1f11-449c-ea96-e753ee8aa215"
      },
      "source": [
        "\n",
        "from sklearn.model_selection import StratifiedKFold\n",
        "from sklearn.model_selection import GridSearchCV \n",
        "\n",
        "model=lgb.LGBMClassifier()\n",
        "param_grid = {\n",
        "    'max_depth': [8],#[4,6,8],\n",
        "    'num_leaves': [40],#[20,30,40],\n",
        "    'learning_rate':[0.1],#[0.01,0.05,0.1,0.2],\n",
        "    'n_estimators':[300]#[100,200,300]\n",
        "}\n",
        "\n",
        "kflod = StratifiedKFold(n_splits=10, shuffle = True,random_state=7)\n",
        " \n",
        "grid_search = GridSearchCV(model,param_grid,scoring = 'f1_macro',n_jobs = -1,cv = kflod)\n",
        "grid_result = grid_search.fit(X, y)\n",
        "\n",
        "print(\"Best: %f using %s\" % (grid_result.best_score_,grid_search.best_params_))\n",
        "means = grid_result.cv_results_['mean_test_score']\n",
        "lgbparams = grid_result.cv_results_['params']\n"
      ],
      "execution_count": null,
      "outputs": [
        {
          "output_type": "stream",
          "text": [
            "Best: 0.667610 using {'learning_rate': 0.1, 'max_depth': 8, 'n_estimators': 300, 'num_leaves': 40}\n"
          ],
          "name": "stdout"
        }
      ]
    },
    {
      "cell_type": "code",
      "metadata": {
        "id": "N_d4NJvplWmB",
        "outputId": "93891d8d-02d4-49e5-913c-83514df2469f"
      },
      "source": [
        "grid_result"
      ],
      "execution_count": null,
      "outputs": [
        {
          "output_type": "execute_result",
          "data": {
            "text/plain": [
              "GridSearchCV(cv=StratifiedKFold(n_splits=10, random_state=7, shuffle=True),\n",
              "             estimator=LGBMClassifier(), n_jobs=-1,\n",
              "             param_grid={'learning_rate': [0.1], 'max_depth': [8],\n",
              "                         'n_estimators': [300], 'num_leaves': [40]},\n",
              "             scoring='f1_macro')"
            ]
          },
          "metadata": {
            "tags": []
          },
          "execution_count": 29
        }
      ]
    },
    {
      "cell_type": "code",
      "metadata": {
        "id": "Comzpr7TlWmB",
        "outputId": "3367c85f-1f88-43fb-b196-8139685f0025"
      },
      "source": [
        "pred=grid_result.predict(X)\n",
        "print(classification_report(pred,y,target_names=['recovered', 'hospitalized', 'nonhospitalized', 'deceased']))"
      ],
      "execution_count": null,
      "outputs": [
        {
          "output_type": "stream",
          "text": [
            "                 precision    recall  f1-score   support\n",
            "\n",
            "      recovered       0.12      0.90      0.22       604\n",
            "   hospitalized       0.85      0.81      0.83    131579\n",
            "nonhospitalized       0.99      0.99      0.99    147533\n",
            "       deceased       0.72      0.75      0.73     83814\n",
            "\n",
            "       accuracy                           0.87    363530\n",
            "      macro avg       0.67      0.86      0.69    363530\n",
            "   weighted avg       0.88      0.87      0.87    363530\n",
            "\n"
          ],
          "name": "stdout"
        }
      ]
    },
    {
      "cell_type": "code",
      "metadata": {
        "id": "VzCF_1I-lWmC"
      },
      "source": [
        "test_pred=grid_result.predict(test_X)"
      ],
      "execution_count": null,
      "outputs": []
    },
    {
      "cell_type": "code",
      "metadata": {
        "id": "tSPB6ar-lWmD"
      },
      "source": [
        "def targetmap(x):\n",
        "    if x==0:\n",
        "        return 'deceased'\n",
        "    elif x==1:\n",
        "        return 'hospitalized'\n",
        "    elif x==2:\n",
        "        return 'nonhospitalized'\n",
        "    else:\n",
        "        return 'recovered'\n",
        "\n",
        "test_pred1=pd.DataFrame(test_pred)\n",
        "test_pred1[0]=test_pred1[0].map(targetmap)\n",
        "\n",
        "with open('./results/predictions.txt','w') as f:\n",
        "    f.write(list(test_pred1[0])[0])\n",
        "    for i in list(test_pred1[0])[1:]:\n",
        "        f.write('\\n'+i)"
      ],
      "execution_count": null,
      "outputs": []
    },
    {
      "cell_type": "code",
      "metadata": {
        "id": "oF-KOxNtlWmE",
        "outputId": "7978a838-2722-47d7-c1b2-aafc40a0921a"
      },
      "source": [
        "\n",
        "from sklearn.model_selection import StratifiedKFold\n",
        "from sklearn.model_selection import GridSearchCV \n",
        "\n",
        "model=SVC()\n",
        "param_grid = {\n",
        "    'degree':[2,3,4]\n",
        "}\n",
        "\n",
        "\n",
        "kflod = StratifiedKFold(n_splits=10, shuffle = True,random_state=7)\n",
        " \n",
        "grid_search = GridSearchCV(model,param_grid,scoring = 'f1_macro',n_jobs = -1,cv = kflod)\n",
        "grid_result = grid_search.fit(X, y)\n",
        "\n",
        "print(\"Best: %f using %s\" % (grid_result.best_score_,grid_search.best_params_))\n",
        "means = grid_result.cv_results_['mean_test_score']\n",
        "svcparams = grid_result.cv_results_['params']\n"
      ],
      "execution_count": null,
      "outputs": [
        {
          "output_type": "error",
          "ename": "KeyboardInterrupt",
          "evalue": "",
          "traceback": [
            "\u001b[1;31m---------------------------------------------------------------------------\u001b[0m",
            "\u001b[1;31mKeyboardInterrupt\u001b[0m                         Traceback (most recent call last)",
            "\u001b[1;32m<ipython-input-221-24b9cbdcf603>\u001b[0m in \u001b[0;36m<module>\u001b[1;34m\u001b[0m\n\u001b[0;32m     11\u001b[0m \u001b[1;33m\u001b[0m\u001b[0m\n\u001b[0;32m     12\u001b[0m \u001b[0mgrid_search\u001b[0m \u001b[1;33m=\u001b[0m \u001b[0mGridSearchCV\u001b[0m\u001b[1;33m(\u001b[0m\u001b[0mmodel\u001b[0m\u001b[1;33m,\u001b[0m\u001b[0mparam_grid\u001b[0m\u001b[1;33m,\u001b[0m\u001b[0mscoring\u001b[0m \u001b[1;33m=\u001b[0m \u001b[1;34m'f1_macro'\u001b[0m\u001b[1;33m,\u001b[0m\u001b[0mn_jobs\u001b[0m \u001b[1;33m=\u001b[0m \u001b[1;33m-\u001b[0m\u001b[1;36m1\u001b[0m\u001b[1;33m,\u001b[0m\u001b[0mcv\u001b[0m \u001b[1;33m=\u001b[0m \u001b[0mkflod\u001b[0m\u001b[1;33m)\u001b[0m\u001b[1;33m\u001b[0m\u001b[1;33m\u001b[0m\u001b[0m\n\u001b[1;32m---> 13\u001b[1;33m \u001b[0mgrid_result\u001b[0m \u001b[1;33m=\u001b[0m \u001b[0mgrid_search\u001b[0m\u001b[1;33m.\u001b[0m\u001b[0mfit\u001b[0m\u001b[1;33m(\u001b[0m\u001b[0mX\u001b[0m\u001b[1;33m,\u001b[0m \u001b[0my\u001b[0m\u001b[1;33m)\u001b[0m\u001b[1;33m\u001b[0m\u001b[1;33m\u001b[0m\u001b[0m\n\u001b[0m\u001b[0;32m     14\u001b[0m \u001b[1;33m\u001b[0m\u001b[0m\n\u001b[0;32m     15\u001b[0m \u001b[0mprint\u001b[0m\u001b[1;33m(\u001b[0m\u001b[1;34m\"Best: %f using %s\"\u001b[0m \u001b[1;33m%\u001b[0m \u001b[1;33m(\u001b[0m\u001b[0mgrid_result\u001b[0m\u001b[1;33m.\u001b[0m\u001b[0mbest_score_\u001b[0m\u001b[1;33m,\u001b[0m\u001b[0mgrid_search\u001b[0m\u001b[1;33m.\u001b[0m\u001b[0mbest_params_\u001b[0m\u001b[1;33m)\u001b[0m\u001b[1;33m)\u001b[0m\u001b[1;33m\u001b[0m\u001b[1;33m\u001b[0m\u001b[0m\n",
            "\u001b[1;32mC:\\ProgramData\\Anaconda3\\lib\\site-packages\\sklearn\\utils\\validation.py\u001b[0m in \u001b[0;36minner_f\u001b[1;34m(*args, **kwargs)\u001b[0m\n\u001b[0;32m     70\u001b[0m                           FutureWarning)\n\u001b[0;32m     71\u001b[0m         \u001b[0mkwargs\u001b[0m\u001b[1;33m.\u001b[0m\u001b[0mupdate\u001b[0m\u001b[1;33m(\u001b[0m\u001b[1;33m{\u001b[0m\u001b[0mk\u001b[0m\u001b[1;33m:\u001b[0m \u001b[0marg\u001b[0m \u001b[1;32mfor\u001b[0m \u001b[0mk\u001b[0m\u001b[1;33m,\u001b[0m \u001b[0marg\u001b[0m \u001b[1;32min\u001b[0m \u001b[0mzip\u001b[0m\u001b[1;33m(\u001b[0m\u001b[0msig\u001b[0m\u001b[1;33m.\u001b[0m\u001b[0mparameters\u001b[0m\u001b[1;33m,\u001b[0m \u001b[0margs\u001b[0m\u001b[1;33m)\u001b[0m\u001b[1;33m}\u001b[0m\u001b[1;33m)\u001b[0m\u001b[1;33m\u001b[0m\u001b[1;33m\u001b[0m\u001b[0m\n\u001b[1;32m---> 72\u001b[1;33m         \u001b[1;32mreturn\u001b[0m \u001b[0mf\u001b[0m\u001b[1;33m(\u001b[0m\u001b[1;33m**\u001b[0m\u001b[0mkwargs\u001b[0m\u001b[1;33m)\u001b[0m\u001b[1;33m\u001b[0m\u001b[1;33m\u001b[0m\u001b[0m\n\u001b[0m\u001b[0;32m     73\u001b[0m     \u001b[1;32mreturn\u001b[0m \u001b[0minner_f\u001b[0m\u001b[1;33m\u001b[0m\u001b[1;33m\u001b[0m\u001b[0m\n\u001b[0;32m     74\u001b[0m \u001b[1;33m\u001b[0m\u001b[0m\n",
            "\u001b[1;32mC:\\ProgramData\\Anaconda3\\lib\\site-packages\\sklearn\\model_selection\\_search.py\u001b[0m in \u001b[0;36mfit\u001b[1;34m(self, X, y, groups, **fit_params)\u001b[0m\n\u001b[0;32m    734\u001b[0m                 \u001b[1;32mreturn\u001b[0m \u001b[0mresults\u001b[0m\u001b[1;33m\u001b[0m\u001b[1;33m\u001b[0m\u001b[0m\n\u001b[0;32m    735\u001b[0m \u001b[1;33m\u001b[0m\u001b[0m\n\u001b[1;32m--> 736\u001b[1;33m             \u001b[0mself\u001b[0m\u001b[1;33m.\u001b[0m\u001b[0m_run_search\u001b[0m\u001b[1;33m(\u001b[0m\u001b[0mevaluate_candidates\u001b[0m\u001b[1;33m)\u001b[0m\u001b[1;33m\u001b[0m\u001b[1;33m\u001b[0m\u001b[0m\n\u001b[0m\u001b[0;32m    737\u001b[0m \u001b[1;33m\u001b[0m\u001b[0m\n\u001b[0;32m    738\u001b[0m         \u001b[1;31m# For multi-metric evaluation, store the best_index_, best_params_ and\u001b[0m\u001b[1;33m\u001b[0m\u001b[1;33m\u001b[0m\u001b[1;33m\u001b[0m\u001b[0m\n",
            "\u001b[1;32mC:\\ProgramData\\Anaconda3\\lib\\site-packages\\sklearn\\model_selection\\_search.py\u001b[0m in \u001b[0;36m_run_search\u001b[1;34m(self, evaluate_candidates)\u001b[0m\n\u001b[0;32m   1186\u001b[0m     \u001b[1;32mdef\u001b[0m \u001b[0m_run_search\u001b[0m\u001b[1;33m(\u001b[0m\u001b[0mself\u001b[0m\u001b[1;33m,\u001b[0m \u001b[0mevaluate_candidates\u001b[0m\u001b[1;33m)\u001b[0m\u001b[1;33m:\u001b[0m\u001b[1;33m\u001b[0m\u001b[1;33m\u001b[0m\u001b[0m\n\u001b[0;32m   1187\u001b[0m         \u001b[1;34m\"\"\"Search all candidates in param_grid\"\"\"\u001b[0m\u001b[1;33m\u001b[0m\u001b[1;33m\u001b[0m\u001b[0m\n\u001b[1;32m-> 1188\u001b[1;33m         \u001b[0mevaluate_candidates\u001b[0m\u001b[1;33m(\u001b[0m\u001b[0mParameterGrid\u001b[0m\u001b[1;33m(\u001b[0m\u001b[0mself\u001b[0m\u001b[1;33m.\u001b[0m\u001b[0mparam_grid\u001b[0m\u001b[1;33m)\u001b[0m\u001b[1;33m)\u001b[0m\u001b[1;33m\u001b[0m\u001b[1;33m\u001b[0m\u001b[0m\n\u001b[0m\u001b[0;32m   1189\u001b[0m \u001b[1;33m\u001b[0m\u001b[0m\n\u001b[0;32m   1190\u001b[0m \u001b[1;33m\u001b[0m\u001b[0m\n",
            "\u001b[1;32mC:\\ProgramData\\Anaconda3\\lib\\site-packages\\sklearn\\model_selection\\_search.py\u001b[0m in \u001b[0;36mevaluate_candidates\u001b[1;34m(candidate_params)\u001b[0m\n\u001b[0;32m    706\u001b[0m                               n_splits, n_candidates, n_candidates * n_splits))\n\u001b[0;32m    707\u001b[0m \u001b[1;33m\u001b[0m\u001b[0m\n\u001b[1;32m--> 708\u001b[1;33m                 out = parallel(delayed(_fit_and_score)(clone(base_estimator),\n\u001b[0m\u001b[0;32m    709\u001b[0m                                                        \u001b[0mX\u001b[0m\u001b[1;33m,\u001b[0m \u001b[0my\u001b[0m\u001b[1;33m,\u001b[0m\u001b[1;33m\u001b[0m\u001b[1;33m\u001b[0m\u001b[0m\n\u001b[0;32m    710\u001b[0m                                                        \u001b[0mtrain\u001b[0m\u001b[1;33m=\u001b[0m\u001b[0mtrain\u001b[0m\u001b[1;33m,\u001b[0m \u001b[0mtest\u001b[0m\u001b[1;33m=\u001b[0m\u001b[0mtest\u001b[0m\u001b[1;33m,\u001b[0m\u001b[1;33m\u001b[0m\u001b[1;33m\u001b[0m\u001b[0m\n",
            "\u001b[1;32mC:\\ProgramData\\Anaconda3\\lib\\site-packages\\joblib\\parallel.py\u001b[0m in \u001b[0;36m__call__\u001b[1;34m(self, iterable)\u001b[0m\n\u001b[0;32m   1059\u001b[0m \u001b[1;33m\u001b[0m\u001b[0m\n\u001b[0;32m   1060\u001b[0m             \u001b[1;32mwith\u001b[0m \u001b[0mself\u001b[0m\u001b[1;33m.\u001b[0m\u001b[0m_backend\u001b[0m\u001b[1;33m.\u001b[0m\u001b[0mretrieval_context\u001b[0m\u001b[1;33m(\u001b[0m\u001b[1;33m)\u001b[0m\u001b[1;33m:\u001b[0m\u001b[1;33m\u001b[0m\u001b[1;33m\u001b[0m\u001b[0m\n\u001b[1;32m-> 1061\u001b[1;33m                 \u001b[0mself\u001b[0m\u001b[1;33m.\u001b[0m\u001b[0mretrieve\u001b[0m\u001b[1;33m(\u001b[0m\u001b[1;33m)\u001b[0m\u001b[1;33m\u001b[0m\u001b[1;33m\u001b[0m\u001b[0m\n\u001b[0m\u001b[0;32m   1062\u001b[0m             \u001b[1;31m# Make sure that we get a last message telling us we are done\u001b[0m\u001b[1;33m\u001b[0m\u001b[1;33m\u001b[0m\u001b[1;33m\u001b[0m\u001b[0m\n\u001b[0;32m   1063\u001b[0m             \u001b[0melapsed_time\u001b[0m \u001b[1;33m=\u001b[0m \u001b[0mtime\u001b[0m\u001b[1;33m.\u001b[0m\u001b[0mtime\u001b[0m\u001b[1;33m(\u001b[0m\u001b[1;33m)\u001b[0m \u001b[1;33m-\u001b[0m \u001b[0mself\u001b[0m\u001b[1;33m.\u001b[0m\u001b[0m_start_time\u001b[0m\u001b[1;33m\u001b[0m\u001b[1;33m\u001b[0m\u001b[0m\n",
            "\u001b[1;32mC:\\ProgramData\\Anaconda3\\lib\\site-packages\\joblib\\parallel.py\u001b[0m in \u001b[0;36mretrieve\u001b[1;34m(self)\u001b[0m\n\u001b[0;32m    938\u001b[0m             \u001b[1;32mtry\u001b[0m\u001b[1;33m:\u001b[0m\u001b[1;33m\u001b[0m\u001b[1;33m\u001b[0m\u001b[0m\n\u001b[0;32m    939\u001b[0m                 \u001b[1;32mif\u001b[0m \u001b[0mgetattr\u001b[0m\u001b[1;33m(\u001b[0m\u001b[0mself\u001b[0m\u001b[1;33m.\u001b[0m\u001b[0m_backend\u001b[0m\u001b[1;33m,\u001b[0m \u001b[1;34m'supports_timeout'\u001b[0m\u001b[1;33m,\u001b[0m \u001b[1;32mFalse\u001b[0m\u001b[1;33m)\u001b[0m\u001b[1;33m:\u001b[0m\u001b[1;33m\u001b[0m\u001b[1;33m\u001b[0m\u001b[0m\n\u001b[1;32m--> 940\u001b[1;33m                     \u001b[0mself\u001b[0m\u001b[1;33m.\u001b[0m\u001b[0m_output\u001b[0m\u001b[1;33m.\u001b[0m\u001b[0mextend\u001b[0m\u001b[1;33m(\u001b[0m\u001b[0mjob\u001b[0m\u001b[1;33m.\u001b[0m\u001b[0mget\u001b[0m\u001b[1;33m(\u001b[0m\u001b[0mtimeout\u001b[0m\u001b[1;33m=\u001b[0m\u001b[0mself\u001b[0m\u001b[1;33m.\u001b[0m\u001b[0mtimeout\u001b[0m\u001b[1;33m)\u001b[0m\u001b[1;33m)\u001b[0m\u001b[1;33m\u001b[0m\u001b[1;33m\u001b[0m\u001b[0m\n\u001b[0m\u001b[0;32m    941\u001b[0m                 \u001b[1;32melse\u001b[0m\u001b[1;33m:\u001b[0m\u001b[1;33m\u001b[0m\u001b[1;33m\u001b[0m\u001b[0m\n\u001b[0;32m    942\u001b[0m                     \u001b[0mself\u001b[0m\u001b[1;33m.\u001b[0m\u001b[0m_output\u001b[0m\u001b[1;33m.\u001b[0m\u001b[0mextend\u001b[0m\u001b[1;33m(\u001b[0m\u001b[0mjob\u001b[0m\u001b[1;33m.\u001b[0m\u001b[0mget\u001b[0m\u001b[1;33m(\u001b[0m\u001b[1;33m)\u001b[0m\u001b[1;33m)\u001b[0m\u001b[1;33m\u001b[0m\u001b[1;33m\u001b[0m\u001b[0m\n",
            "\u001b[1;32mC:\\ProgramData\\Anaconda3\\lib\\site-packages\\joblib\\_parallel_backends.py\u001b[0m in \u001b[0;36mwrap_future_result\u001b[1;34m(future, timeout)\u001b[0m\n\u001b[0;32m    540\u001b[0m         AsyncResults.get from multiprocessing.\"\"\"\n\u001b[0;32m    541\u001b[0m         \u001b[1;32mtry\u001b[0m\u001b[1;33m:\u001b[0m\u001b[1;33m\u001b[0m\u001b[1;33m\u001b[0m\u001b[0m\n\u001b[1;32m--> 542\u001b[1;33m             \u001b[1;32mreturn\u001b[0m \u001b[0mfuture\u001b[0m\u001b[1;33m.\u001b[0m\u001b[0mresult\u001b[0m\u001b[1;33m(\u001b[0m\u001b[0mtimeout\u001b[0m\u001b[1;33m=\u001b[0m\u001b[0mtimeout\u001b[0m\u001b[1;33m)\u001b[0m\u001b[1;33m\u001b[0m\u001b[1;33m\u001b[0m\u001b[0m\n\u001b[0m\u001b[0;32m    543\u001b[0m         \u001b[1;32mexcept\u001b[0m \u001b[0mCfTimeoutError\u001b[0m \u001b[1;32mas\u001b[0m \u001b[0me\u001b[0m\u001b[1;33m:\u001b[0m\u001b[1;33m\u001b[0m\u001b[1;33m\u001b[0m\u001b[0m\n\u001b[0;32m    544\u001b[0m             \u001b[1;32mraise\u001b[0m \u001b[0mTimeoutError\u001b[0m \u001b[1;32mfrom\u001b[0m \u001b[0me\u001b[0m\u001b[1;33m\u001b[0m\u001b[1;33m\u001b[0m\u001b[0m\n",
            "\u001b[1;32mC:\\ProgramData\\Anaconda3\\lib\\concurrent\\futures\\_base.py\u001b[0m in \u001b[0;36mresult\u001b[1;34m(self, timeout)\u001b[0m\n\u001b[0;32m    432\u001b[0m                 \u001b[1;32mreturn\u001b[0m \u001b[0mself\u001b[0m\u001b[1;33m.\u001b[0m\u001b[0m__get_result\u001b[0m\u001b[1;33m(\u001b[0m\u001b[1;33m)\u001b[0m\u001b[1;33m\u001b[0m\u001b[1;33m\u001b[0m\u001b[0m\n\u001b[0;32m    433\u001b[0m \u001b[1;33m\u001b[0m\u001b[0m\n\u001b[1;32m--> 434\u001b[1;33m             \u001b[0mself\u001b[0m\u001b[1;33m.\u001b[0m\u001b[0m_condition\u001b[0m\u001b[1;33m.\u001b[0m\u001b[0mwait\u001b[0m\u001b[1;33m(\u001b[0m\u001b[0mtimeout\u001b[0m\u001b[1;33m)\u001b[0m\u001b[1;33m\u001b[0m\u001b[1;33m\u001b[0m\u001b[0m\n\u001b[0m\u001b[0;32m    435\u001b[0m \u001b[1;33m\u001b[0m\u001b[0m\n\u001b[0;32m    436\u001b[0m             \u001b[1;32mif\u001b[0m \u001b[0mself\u001b[0m\u001b[1;33m.\u001b[0m\u001b[0m_state\u001b[0m \u001b[1;32min\u001b[0m \u001b[1;33m[\u001b[0m\u001b[0mCANCELLED\u001b[0m\u001b[1;33m,\u001b[0m \u001b[0mCANCELLED_AND_NOTIFIED\u001b[0m\u001b[1;33m]\u001b[0m\u001b[1;33m:\u001b[0m\u001b[1;33m\u001b[0m\u001b[1;33m\u001b[0m\u001b[0m\n",
            "\u001b[1;32mC:\\ProgramData\\Anaconda3\\lib\\threading.py\u001b[0m in \u001b[0;36mwait\u001b[1;34m(self, timeout)\u001b[0m\n\u001b[0;32m    300\u001b[0m         \u001b[1;32mtry\u001b[0m\u001b[1;33m:\u001b[0m    \u001b[1;31m# restore state no matter what (e.g., KeyboardInterrupt)\u001b[0m\u001b[1;33m\u001b[0m\u001b[1;33m\u001b[0m\u001b[0m\n\u001b[0;32m    301\u001b[0m             \u001b[1;32mif\u001b[0m \u001b[0mtimeout\u001b[0m \u001b[1;32mis\u001b[0m \u001b[1;32mNone\u001b[0m\u001b[1;33m:\u001b[0m\u001b[1;33m\u001b[0m\u001b[1;33m\u001b[0m\u001b[0m\n\u001b[1;32m--> 302\u001b[1;33m                 \u001b[0mwaiter\u001b[0m\u001b[1;33m.\u001b[0m\u001b[0macquire\u001b[0m\u001b[1;33m(\u001b[0m\u001b[1;33m)\u001b[0m\u001b[1;33m\u001b[0m\u001b[1;33m\u001b[0m\u001b[0m\n\u001b[0m\u001b[0;32m    303\u001b[0m                 \u001b[0mgotit\u001b[0m \u001b[1;33m=\u001b[0m \u001b[1;32mTrue\u001b[0m\u001b[1;33m\u001b[0m\u001b[1;33m\u001b[0m\u001b[0m\n\u001b[0;32m    304\u001b[0m             \u001b[1;32melse\u001b[0m\u001b[1;33m:\u001b[0m\u001b[1;33m\u001b[0m\u001b[1;33m\u001b[0m\u001b[0m\n",
            "\u001b[1;31mKeyboardInterrupt\u001b[0m: "
          ]
        }
      ]
    },
    {
      "cell_type": "code",
      "metadata": {
        "id": "fcQ3MT9BlWmF"
      },
      "source": [
        "pred=grid_result.predict(X)\n",
        "print(classification_report(pred,y,target_names=['recovered', 'hospitalized', 'nonhospitalized', 'deceased']))"
      ],
      "execution_count": null,
      "outputs": []
    },
    {
      "cell_type": "code",
      "metadata": {
        "id": "3E9BdYP7lWmG"
      },
      "source": [
        "\n",
        "from sklearn.model_selection import StratifiedKFold\n",
        "from sklearn.model_selection import GridSearchCV \n",
        "\n",
        "model=MLPClassifier()\n",
        "param_grid = {\n",
        "    'max_iter': [100,150,200],\n",
        "    'alpha':[0.5,1,2]\n",
        "}\n",
        "\n",
        "kflod = StratifiedKFold(n_splits=10, shuffle = True,random_state=7)\n",
        " \n",
        "grid_search = GridSearchCV(model,param_grid,scoring = 'f1_macro',n_jobs = -1,cv = kflod)\n",
        "grid_result = grid_search.fit(X, y)\n",
        "\n",
        "print(\"Best: %f using %s\" % (grid_result.best_score_,grid_search.best_params_))\n",
        "means = grid_result.cv_results_['mean_test_score']\n",
        "mlpparams = grid_result.cv_results_['params']\n"
      ],
      "execution_count": null,
      "outputs": []
    },
    {
      "cell_type": "code",
      "metadata": {
        "id": "Oah_Kw9glWmH"
      },
      "source": [
        "pred=grid_result.predict(X)\n",
        "print(classification_report(pred,y,target_names=['recovered', 'hospitalized', 'nonhospitalized', 'deceased']))"
      ],
      "execution_count": null,
      "outputs": []
    },
    {
      "cell_type": "code",
      "metadata": {
        "id": "03meVZCdoz8X"
      },
      "source": [
        "params_lgb_best={ 'boosting_type':'gbdt','objective':'multiclass',\n",
        "            'learning_rate':0.1, 'n_estimators':500, 'max_depth':5,\n",
        "            'metric':'multi_error', 'bagging_fraction':0.8, 'feature_fraction':0.8, 'reg_lambda':0.9,'verbose':1000,'silent':False\n",
        "}\n",
        "\n",
        "params_svr_best={\n",
        "    'kernel' :'rbf','degree' : 3,'gamma' :'auto','tol' : 0.001\n",
        "}\n",
        "\n",
        "params_mlp_best={\n",
        "    'hidden_layer_sizes':(100,50), 'activation':'relu','solver':'adam',\n",
        "    'alpha':0.02,'max_iter':200\n",
        "}"
      ],
      "execution_count": null,
      "outputs": []
    },
    {
      "cell_type": "code",
      "metadata": {
        "id": "cr2mHDLBoz8Y"
      },
      "source": [
        "model_lgb=model_lgb_train(X_train, y_train,params_lgb)\n",
        "output = open('./models/lgb_classifier.pkl', 'wb')\n",
        "pickle.dump(model_lgb, output)\n",
        "output.close()\n",
        "model_lgb=pickle.load(open('./models/lgb_classifier.pkl', 'rb'))\n",
        "pred_lgb_val=model_lgb_val(X_val,model_lgb)\n",
        "pred_lgb_train=model_lgb_val(X_train,model_lgb)\n",
        "print('the train acc of lgb is '+str(accuracy_score(pred_lgb_train,y_train)))\n",
        "print('the train f1 of lgb is '+str(f1_score(pred_lgb_train,y_train)))\n",
        "\n",
        "print('the val acc of lgb is '+str(accuracy_score(pred_lgb_val,y_val)))\n",
        "print('the  val f1 of lgb is '+str(f1_score(pred_lgb_val,y_val)))\n",
        "\n"
      ],
      "execution_count": null,
      "outputs": []
    },
    {
      "cell_type": "code",
      "metadata": {
        "id": "X4VRz-wKoz8a"
      },
      "source": [
        "model_svr=model_svr_train(X_train, y_train,params_svr)\n",
        "output = open('./models/svc_classifier.pkl', 'wb')\n",
        "pickle.dump(model_svr, output)\n",
        "output.close()\n",
        "model_svr=pickle.load(open('./models/svc_classifier.pkl', 'rb'))\n",
        "pred_svr_val=model_svr_val(X_val,model_svr)\n",
        "pred_svr_train=model_svr_val(X_train,model_svr)\n",
        "\n",
        "print('the train acc of svm is '+str(accuracy_score(pred_svr_train,y_train)))\n",
        "print('the train f1 of svm is '+str(f1_score(pred_svr_train,y_train)))\n",
        "\n",
        "print('the val acc of svm is '+str(accuracy_score(pred_svr_val,y_val)))\n",
        "print('the  val f1 of svm is '+str(f1_score(pred_svr_val,y_val)))"
      ],
      "execution_count": null,
      "outputs": []
    },
    {
      "cell_type": "code",
      "metadata": {
        "id": "gcUeGQCIoz8b"
      },
      "source": [
        "model_mlp=model_mlp_train(X_train, y_train,params_mlp)\n",
        "output = open('./models/mlp_classifier.pkl', 'wb')\n",
        "pickle.dump(model_mlp, output)\n",
        "output.close()\n",
        "model_mlp=pickle.load(open('./models/mlp_classifier.pkl', 'rb'))\n",
        "pred_mlp_val=model_mlp_val(X_val,model_mlp)\n",
        "pred_mlp_train=model_mlp_val(X_train,model_mlp)\n",
        "\n",
        "print('the train acc of mlp is '+str(accuracy_score(pred_mlp_train,y_train)))\n",
        "print('the train f1 of mlp is '+str(f1_score(pred_mlp_train,y_train)))\n",
        "\n",
        "print('the val acc of mlp is '+str(accuracy_score(pred_mlp_val,y_val)))\n",
        "print('the  val f1 of mlp is '+str(f1_score(pred_mlp_val,y_val)))"
      ],
      "execution_count": null,
      "outputs": []
    },
    {
      "cell_type": "code",
      "metadata": {
        "id": "JljGKpXIoz8c"
      },
      "source": [
        "fig = plt.figure(figsize=(8,6))\n",
        "\n",
        "sns.barplot(['train_lgb','val_lgb','train_svm','val_svm','train_mlp','val_mlp']\n",
        "            ,[accuracy_score(pred_lgb_train,y_train),accuracy_score(pred_lgb_val,y_val),\n",
        "              accuracy_score(pred_svr_train,y_train),accuracy_score(pred_svr_val,y_val),\n",
        "              accuracy_score(pred_mlp_train,y_train),accuracy_score(pred_mlp_val,y_val),\n",
        "             ])\n",
        "\n",
        "plt.title('the acc of three models')\n",
        "\n",
        "plt.savefig('./plots/accuracy.png')"
      ],
      "execution_count": null,
      "outputs": []
    },
    {
      "cell_type": "code",
      "metadata": {
        "id": "1K_CXgM5oz8e"
      },
      "source": [
        "fig = plt.figure(figsize=(8,6))\n",
        "\n",
        "sns.barplot(['train_lgb','val_lgb','train_svm','val_svm','train_mlp','val_mlp']\n",
        "            ,[f1_score(pred_lgb_train,y_train),f1_score(pred_lgb_val,y_val),\n",
        "              f1_score(pred_svr_train,y_train),f1_score(pred_svr_val,y_val),\n",
        "              f1_score(pred_mlp_train,y_train),f1_score(pred_mlp_val,y_val),\n",
        "             ])\n",
        "\n",
        "plt.title('the f1_score of three models')\n",
        "\n",
        "plt.savefig('./plots/f1_score.png')"
      ],
      "execution_count": null,
      "outputs": []
    },
    {
      "cell_type": "code",
      "metadata": {
        "id": "3ijnzPX1oz8g"
      },
      "source": [
        "params_lgb1={ 'boosting_type':'gbdt','objective':'binary',\n",
        "            'learning_rate':0.3, 'n_estimators':500, 'max_depth':5,\n",
        "            'metric':'binary_logloss', 'bagging_fraction':0.8, 'feature_fraction':0.8, 'reg_lambda':0.9,'verbose':0,\n",
        "}\n",
        "\n",
        "params_svr1={\n",
        "    'kernel' :'linear','degree' : 5,'gamma' :'auto','tol' : 0.001\n",
        "}\n",
        "\n",
        "params_mlp1={\n",
        "    'hidden_layer_sizes':(100,50), 'activation':'relu','solver':'adam',\n",
        "    'alpha':0.1,'max_iter':400\n",
        "}"
      ],
      "execution_count": null,
      "outputs": []
    },
    {
      "cell_type": "code",
      "metadata": {
        "id": "DvkTby-1oz8h"
      },
      "source": [
        "model_lgb=model_lgb_train(X_train, y_train,params_lgb1)\n",
        "pred_lgb_val=model_lgb_val(X_val,model_lgb)\n",
        "pred_lgb_train=model_lgb_val(X_train,model_lgb)\n",
        "print('the train acc of lgb1 is '+str(accuracy_score(pred_lgb_train,y_train)))\n",
        "print('the train f1 of lgb1 is '+str(f1_score(pred_lgb_train,y_train)))\n",
        "\n",
        "print('the val acc of lgb1 is '+str(accuracy_score(pred_lgb_val,y_val)))\n",
        "print('the  val f1 of lgb1 is '+str(f1_score(pred_lgb_val,y_val)))"
      ],
      "execution_count": null,
      "outputs": []
    },
    {
      "cell_type": "code",
      "metadata": {
        "id": "NY62DLAjoz8i"
      },
      "source": [
        "model_svr=model_svr_train(X_train, y_train,params_svr1)\n",
        "pred_svr_val=model_svr_val(X_val,model_svr)\n",
        "pred_svr_train=model_svr_val(X_train,model_svr)\n",
        "\n",
        "print('the train acc of svm1 is '+str(accuracy_score(pred_svr_train,y_train)))\n",
        "print('the train f1 of svm1 is '+str(f1_score(pred_svr_train,y_train)))\n",
        "\n",
        "print('the val acc of svm1 is '+str(accuracy_score(pred_svr_val,y_val)))\n",
        "print('the  val f1 of svm1 is '+str(f1_score(pred_svr_val,y_val)))"
      ],
      "execution_count": null,
      "outputs": []
    },
    {
      "cell_type": "code",
      "metadata": {
        "id": "b5aE7CZmoz8j"
      },
      "source": [
        "model_mlp=model_mlp_train(X_train, y_train,params_mlp1)\n",
        "pred_mlp_val=model_mlp_val(X_val,model_mlp)\n",
        "pred_mlp_train=model_mlp_val(X_train,model_mlp)\n",
        "\n",
        "print('the train acc of mlp1 is '+str(accuracy_score(pred_mlp_train,y_train)))\n",
        "print('the train f1 of mlp1 is '+str(f1_score(pred_mlp_train,y_train)))\n",
        "\n",
        "print('the val acc of mlp1 is '+str(accuracy_score(pred_mlp_val,y_val)))\n",
        "print('the  val f1 of mlp1 is '+str(f1_score(pred_mlp_val,y_val)))"
      ],
      "execution_count": null,
      "outputs": []
    },
    {
      "cell_type": "code",
      "metadata": {
        "id": "k005xdogoz8k"
      },
      "source": [
        ""
      ],
      "execution_count": null,
      "outputs": []
    }
  ]
}