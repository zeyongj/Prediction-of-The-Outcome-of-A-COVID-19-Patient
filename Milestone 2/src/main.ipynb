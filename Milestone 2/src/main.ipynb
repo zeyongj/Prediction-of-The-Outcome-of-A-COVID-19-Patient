{
  "nbformat": 4,
  "nbformat_minor": 0,
  "metadata": {
    "kernelspec": {
      "display_name": "Python 3",
      "language": "python",
      "name": "python3"
    },
    "language_info": {
      "codemirror_mode": {
        "name": "ipython",
        "version": 3
      },
      "file_extension": ".py",
      "mimetype": "text/x-python",
      "name": "python",
      "nbconvert_exporter": "python",
      "pygments_lexer": "ipython3",
      "version": "3.8.5"
    },
    "colab": {
      "name": "main.ipynb",
      "provenance": [],
      "collapsed_sections": []
    }
  },
  "cells": [
    {
      "cell_type": "code",
      "metadata": {
        "id": "-wcizDSXoz7v"
      },
      "source": [
        "import numpy as np\n",
        "import pandas as pd\n",
        "from sklearn.linear_model import LinearRegression\n",
        "import matplotlib.pyplot as plt\n",
        "from sklearn.model_selection import train_test_split\n",
        "import warnings\n",
        "import seaborn as sns\n",
        "import datetime\n",
        "warnings.filterwarnings(\"ignore\")"
      ],
      "execution_count": 101,
      "outputs": []
    },
    {
      "cell_type": "code",
      "metadata": {
        "id": "eSxDxrADoz71"
      },
      "source": [
        "data=pd.read_csv('./data/cases_train_processed.csv')"
      ],
      "execution_count": 102,
      "outputs": []
    },
    {
      "cell_type": "code",
      "metadata": {
        "id": "ChlwqC4Toz78"
      },
      "source": [
        "data['age']=data['age'].fillna(np.mean(data['age']))\n",
        "data['sex']=data['sex'].fillna(999)\n",
        "data['date_confirmation']=data['date_confirmation'].fillna(data.date_confirmation.mode()[0])\n",
        "data['source']=data['source'].fillna(data.source.mode()[0])"
      ],
      "execution_count": 104,
      "outputs": []
    },
    {
      "cell_type": "code",
      "metadata": {
        "id": "F2NQQrQKoM73"
      },
      "source": [
        "del data['additional_information']"
      ],
      "execution_count": 105,
      "outputs": []
    },
    {
      "cell_type": "code",
      "metadata": {
        "id": "Bvx5LOraoz8B"
      },
      "source": [
        "for col in data.columns:\n",
        "    if data[col].dtype=='object':\n",
        "        data[col]=data[col].fillna(data[col].mode()[0])\n",
        "    else:\n",
        "        data[col]=data[col].fillna(np.mean(data[col]))"
      ],
      "execution_count": 106,
      "outputs": []
    },
    {
      "cell_type": "code",
      "metadata": {
        "colab": {
          "base_uri": "https://localhost:8080/"
        },
        "id": "R43nM4dIoz8C",
        "outputId": "5da03f1d-336f-43e0-ff1d-06160b920643"
      },
      "source": [
        "data.isna().sum()"
      ],
      "execution_count": 107,
      "outputs": [
        {
          "output_type": "execute_result",
          "data": {
            "text/plain": [
              "age                    0\n",
              "sex                    0\n",
              "province               0\n",
              "country                0\n",
              "latitude               0\n",
              "longitude              0\n",
              "date_confirmation      0\n",
              "source                 0\n",
              "outcome                0\n",
              "Last_Update            0\n",
              "Lat                    0\n",
              "Long_                  0\n",
              "Confirmed              0\n",
              "Deaths                 0\n",
              "Recovered              0\n",
              "Active                 0\n",
              "Combined_Key           0\n",
              "Incidence_Rate         0\n",
              "Case_Fatality_Ratio    0\n",
              "dtype: int64"
            ]
          },
          "metadata": {
            "tags": []
          },
          "execution_count": 107
        }
      ]
    },
    {
      "cell_type": "code",
      "metadata": {
        "colab": {
          "base_uri": "https://localhost:8080/"
        },
        "id": "anZM6dw5oz8D",
        "outputId": "c6905701-03da-4bbb-8ed9-d6ec5ce64107"
      },
      "source": [
        "data.nunique()"
      ],
      "execution_count": 108,
      "outputs": [
        {
          "output_type": "execute_result",
          "data": {
            "text/plain": [
              "age                     156\n",
              "sex                       3\n",
              "province               1106\n",
              "country                  66\n",
              "latitude               7110\n",
              "longitude              7107\n",
              "date_confirmation       154\n",
              "source                 6841\n",
              "outcome                   4\n",
              "Last_Update               1\n",
              "Lat                     370\n",
              "Long_                   360\n",
              "Confirmed               364\n",
              "Deaths                  302\n",
              "Recovered               264\n",
              "Active                  332\n",
              "Combined_Key            370\n",
              "Incidence_Rate          371\n",
              "Case_Fatality_Ratio     360\n",
              "dtype: int64"
            ]
          },
          "metadata": {
            "tags": []
          },
          "execution_count": 108
        }
      ]
    },
    {
      "cell_type": "code",
      "metadata": {
        "id": "e0vKrUPxoz8H"
      },
      "source": [
        "for col in ['date_confirmation','Last_Update']:\n",
        "    data[col+'month']=data[col].apply(lambda x:int(str(x).split()[0].split('/')[1]))\n",
        "    data[col+'day']=data[col].apply(lambda x:int(str(x).split()[0].split('/')[2]))\n",
        "    del data[col]\n",
        "    \n",
        "for col in ['sex','province','country','source','Combined_Key']:\n",
        "    codes, uniques = pd.factorize(data[col])\n",
        "    data[col]=codes\n",
        "    \n",
        "data['outcome']=data['outcome'].apply(lambda x:1 if x=='hospitalized' else 0)"
      ],
      "execution_count": 109,
      "outputs": []
    },
    {
      "cell_type": "markdown",
      "metadata": {
        "id": "NPZapOwJoz8L"
      },
      "source": [
        "2.split data"
      ]
    },
    {
      "cell_type": "code",
      "metadata": {
        "id": "B5UcSINWoz8M"
      },
      "source": [
        "cols=[col for col in data.columns if col!='outcome']"
      ],
      "execution_count": 111,
      "outputs": []
    },
    {
      "cell_type": "code",
      "metadata": {
        "id": "Pw1Em-NIoz8N"
      },
      "source": [
        "y=data['outcome']\n",
        "X=data[cols]"
      ],
      "execution_count": 112,
      "outputs": []
    },
    {
      "cell_type": "code",
      "metadata": {
        "colab": {
          "base_uri": "https://localhost:8080/",
          "height": 689
        },
        "id": "FU2y0a5qoz8O",
        "outputId": "1e995bf5-5c3c-4d1f-be6b-041483502afd"
      },
      "source": [
        "X.corr()"
      ],
      "execution_count": 113,
      "outputs": [
        {
          "output_type": "execute_result",
          "data": {
            "text/html": [
              "<div>\n",
              "<style scoped>\n",
              "    .dataframe tbody tr th:only-of-type {\n",
              "        vertical-align: middle;\n",
              "    }\n",
              "\n",
              "    .dataframe tbody tr th {\n",
              "        vertical-align: top;\n",
              "    }\n",
              "\n",
              "    .dataframe thead th {\n",
              "        text-align: right;\n",
              "    }\n",
              "</style>\n",
              "<table border=\"1\" class=\"dataframe\">\n",
              "  <thead>\n",
              "    <tr style=\"text-align: right;\">\n",
              "      <th></th>\n",
              "      <th>age</th>\n",
              "      <th>sex</th>\n",
              "      <th>province</th>\n",
              "      <th>country</th>\n",
              "      <th>latitude</th>\n",
              "      <th>longitude</th>\n",
              "      <th>source</th>\n",
              "      <th>Lat</th>\n",
              "      <th>Long_</th>\n",
              "      <th>Confirmed</th>\n",
              "      <th>Deaths</th>\n",
              "      <th>Recovered</th>\n",
              "      <th>Active</th>\n",
              "      <th>Combined_Key</th>\n",
              "      <th>Incidence_Rate</th>\n",
              "      <th>Case_Fatality_Ratio</th>\n",
              "      <th>date_confirmationmonth</th>\n",
              "      <th>date_confirmationday</th>\n",
              "      <th>Last_Updatemonth</th>\n",
              "      <th>Last_Updateday</th>\n",
              "    </tr>\n",
              "  </thead>\n",
              "  <tbody>\n",
              "    <tr>\n",
              "      <th>age</th>\n",
              "      <td>1.000000</td>\n",
              "      <td>-0.002755</td>\n",
              "      <td>0.010572</td>\n",
              "      <td>0.035316</td>\n",
              "      <td>0.109761</td>\n",
              "      <td>-0.017569</td>\n",
              "      <td>0.011560</td>\n",
              "      <td>0.071072</td>\n",
              "      <td>-0.042255</td>\n",
              "      <td>-0.026805</td>\n",
              "      <td>-0.010320</td>\n",
              "      <td>-0.036982</td>\n",
              "      <td>0.004222</td>\n",
              "      <td>0.025087</td>\n",
              "      <td>-0.002512</td>\n",
              "      <td>0.048891</td>\n",
              "      <td>-0.097386</td>\n",
              "      <td>-0.006856</td>\n",
              "      <td>NaN</td>\n",
              "      <td>NaN</td>\n",
              "    </tr>\n",
              "    <tr>\n",
              "      <th>sex</th>\n",
              "      <td>-0.002755</td>\n",
              "      <td>1.000000</td>\n",
              "      <td>0.166027</td>\n",
              "      <td>0.210179</td>\n",
              "      <td>-0.271898</td>\n",
              "      <td>-0.627608</td>\n",
              "      <td>-0.070075</td>\n",
              "      <td>-0.170920</td>\n",
              "      <td>-0.584783</td>\n",
              "      <td>-0.326455</td>\n",
              "      <td>-0.270150</td>\n",
              "      <td>-0.392480</td>\n",
              "      <td>-0.070440</td>\n",
              "      <td>0.116130</td>\n",
              "      <td>0.346470</td>\n",
              "      <td>0.243501</td>\n",
              "      <td>-0.252061</td>\n",
              "      <td>-0.103120</td>\n",
              "      <td>NaN</td>\n",
              "      <td>NaN</td>\n",
              "    </tr>\n",
              "    <tr>\n",
              "      <th>province</th>\n",
              "      <td>0.010572</td>\n",
              "      <td>0.166027</td>\n",
              "      <td>1.000000</td>\n",
              "      <td>0.821570</td>\n",
              "      <td>0.014482</td>\n",
              "      <td>-0.332027</td>\n",
              "      <td>0.548967</td>\n",
              "      <td>0.075609</td>\n",
              "      <td>-0.282276</td>\n",
              "      <td>-0.164285</td>\n",
              "      <td>-0.152695</td>\n",
              "      <td>-0.207760</td>\n",
              "      <td>-0.010167</td>\n",
              "      <td>0.754958</td>\n",
              "      <td>0.101650</td>\n",
              "      <td>0.119565</td>\n",
              "      <td>-0.344225</td>\n",
              "      <td>-0.031403</td>\n",
              "      <td>NaN</td>\n",
              "      <td>NaN</td>\n",
              "    </tr>\n",
              "    <tr>\n",
              "      <th>country</th>\n",
              "      <td>0.035316</td>\n",
              "      <td>0.210179</td>\n",
              "      <td>0.821570</td>\n",
              "      <td>1.000000</td>\n",
              "      <td>0.003900</td>\n",
              "      <td>-0.400119</td>\n",
              "      <td>0.578597</td>\n",
              "      <td>0.031103</td>\n",
              "      <td>-0.387200</td>\n",
              "      <td>-0.130487</td>\n",
              "      <td>-0.085195</td>\n",
              "      <td>-0.218474</td>\n",
              "      <td>0.112957</td>\n",
              "      <td>0.740434</td>\n",
              "      <td>0.211753</td>\n",
              "      <td>0.226697</td>\n",
              "      <td>-0.390803</td>\n",
              "      <td>-0.044370</td>\n",
              "      <td>NaN</td>\n",
              "      <td>NaN</td>\n",
              "    </tr>\n",
              "    <tr>\n",
              "      <th>latitude</th>\n",
              "      <td>0.109761</td>\n",
              "      <td>-0.271898</td>\n",
              "      <td>0.014482</td>\n",
              "      <td>0.003900</td>\n",
              "      <td>1.000000</td>\n",
              "      <td>0.467776</td>\n",
              "      <td>0.190341</td>\n",
              "      <td>0.786806</td>\n",
              "      <td>0.306537</td>\n",
              "      <td>-0.155177</td>\n",
              "      <td>-0.151288</td>\n",
              "      <td>-0.053591</td>\n",
              "      <td>-0.340422</td>\n",
              "      <td>0.107232</td>\n",
              "      <td>-0.579516</td>\n",
              "      <td>0.018204</td>\n",
              "      <td>-0.311833</td>\n",
              "      <td>0.015119</td>\n",
              "      <td>NaN</td>\n",
              "      <td>NaN</td>\n",
              "    </tr>\n",
              "    <tr>\n",
              "      <th>longitude</th>\n",
              "      <td>-0.017569</td>\n",
              "      <td>-0.627608</td>\n",
              "      <td>-0.332027</td>\n",
              "      <td>-0.400119</td>\n",
              "      <td>0.467776</td>\n",
              "      <td>1.000000</td>\n",
              "      <td>0.034255</td>\n",
              "      <td>0.320651</td>\n",
              "      <td>0.833910</td>\n",
              "      <td>0.284673</td>\n",
              "      <td>0.135906</td>\n",
              "      <td>0.433978</td>\n",
              "      <td>-0.142949</td>\n",
              "      <td>-0.272086</td>\n",
              "      <td>-0.593826</td>\n",
              "      <td>-0.492662</td>\n",
              "      <td>0.164165</td>\n",
              "      <td>0.112945</td>\n",
              "      <td>NaN</td>\n",
              "      <td>NaN</td>\n",
              "    </tr>\n",
              "    <tr>\n",
              "      <th>source</th>\n",
              "      <td>0.011560</td>\n",
              "      <td>-0.070075</td>\n",
              "      <td>0.548967</td>\n",
              "      <td>0.578597</td>\n",
              "      <td>0.190341</td>\n",
              "      <td>0.034255</td>\n",
              "      <td>1.000000</td>\n",
              "      <td>0.168828</td>\n",
              "      <td>-0.010067</td>\n",
              "      <td>-0.147043</td>\n",
              "      <td>-0.180097</td>\n",
              "      <td>-0.164156</td>\n",
              "      <td>-0.055934</td>\n",
              "      <td>0.602863</td>\n",
              "      <td>-0.065257</td>\n",
              "      <td>-0.109832</td>\n",
              "      <td>-0.319748</td>\n",
              "      <td>-0.009667</td>\n",
              "      <td>NaN</td>\n",
              "      <td>NaN</td>\n",
              "    </tr>\n",
              "    <tr>\n",
              "      <th>Lat</th>\n",
              "      <td>0.071072</td>\n",
              "      <td>-0.170920</td>\n",
              "      <td>0.075609</td>\n",
              "      <td>0.031103</td>\n",
              "      <td>0.786806</td>\n",
              "      <td>0.320651</td>\n",
              "      <td>0.168828</td>\n",
              "      <td>1.000000</td>\n",
              "      <td>0.382979</td>\n",
              "      <td>-0.191727</td>\n",
              "      <td>-0.180871</td>\n",
              "      <td>-0.067095</td>\n",
              "      <td>-0.419089</td>\n",
              "      <td>0.079319</td>\n",
              "      <td>-0.729872</td>\n",
              "      <td>0.029658</td>\n",
              "      <td>-0.284430</td>\n",
              "      <td>-0.004410</td>\n",
              "      <td>NaN</td>\n",
              "      <td>NaN</td>\n",
              "    </tr>\n",
              "    <tr>\n",
              "      <th>Long_</th>\n",
              "      <td>-0.042255</td>\n",
              "      <td>-0.584783</td>\n",
              "      <td>-0.282276</td>\n",
              "      <td>-0.387200</td>\n",
              "      <td>0.306537</td>\n",
              "      <td>0.833910</td>\n",
              "      <td>-0.010067</td>\n",
              "      <td>0.382979</td>\n",
              "      <td>1.000000</td>\n",
              "      <td>0.357903</td>\n",
              "      <td>0.181527</td>\n",
              "      <td>0.534371</td>\n",
              "      <td>-0.154532</td>\n",
              "      <td>-0.391928</td>\n",
              "      <td>-0.708004</td>\n",
              "      <td>-0.587269</td>\n",
              "      <td>0.227520</td>\n",
              "      <td>0.113280</td>\n",
              "      <td>NaN</td>\n",
              "      <td>NaN</td>\n",
              "    </tr>\n",
              "    <tr>\n",
              "      <th>Confirmed</th>\n",
              "      <td>-0.026805</td>\n",
              "      <td>-0.326455</td>\n",
              "      <td>-0.164285</td>\n",
              "      <td>-0.130487</td>\n",
              "      <td>-0.155177</td>\n",
              "      <td>0.284673</td>\n",
              "      <td>-0.147043</td>\n",
              "      <td>-0.191727</td>\n",
              "      <td>0.357903</td>\n",
              "      <td>1.000000</td>\n",
              "      <td>0.940024</td>\n",
              "      <td>0.959280</td>\n",
              "      <td>0.770414</td>\n",
              "      <td>-0.271907</td>\n",
              "      <td>0.093648</td>\n",
              "      <td>-0.125535</td>\n",
              "      <td>0.238993</td>\n",
              "      <td>0.108307</td>\n",
              "      <td>NaN</td>\n",
              "      <td>NaN</td>\n",
              "    </tr>\n",
              "    <tr>\n",
              "      <th>Deaths</th>\n",
              "      <td>-0.010320</td>\n",
              "      <td>-0.270150</td>\n",
              "      <td>-0.152695</td>\n",
              "      <td>-0.085195</td>\n",
              "      <td>-0.151288</td>\n",
              "      <td>0.135906</td>\n",
              "      <td>-0.180097</td>\n",
              "      <td>-0.180871</td>\n",
              "      <td>0.181527</td>\n",
              "      <td>0.940024</td>\n",
              "      <td>1.000000</td>\n",
              "      <td>0.840204</td>\n",
              "      <td>0.856974</td>\n",
              "      <td>-0.253300</td>\n",
              "      <td>0.198202</td>\n",
              "      <td>0.112229</td>\n",
              "      <td>0.189763</td>\n",
              "      <td>0.077521</td>\n",
              "      <td>NaN</td>\n",
              "      <td>NaN</td>\n",
              "    </tr>\n",
              "    <tr>\n",
              "      <th>Recovered</th>\n",
              "      <td>-0.036982</td>\n",
              "      <td>-0.392480</td>\n",
              "      <td>-0.207760</td>\n",
              "      <td>-0.218474</td>\n",
              "      <td>-0.053591</td>\n",
              "      <td>0.433978</td>\n",
              "      <td>-0.164156</td>\n",
              "      <td>-0.067095</td>\n",
              "      <td>0.534371</td>\n",
              "      <td>0.959280</td>\n",
              "      <td>0.840204</td>\n",
              "      <td>1.000000</td>\n",
              "      <td>0.559083</td>\n",
              "      <td>-0.320575</td>\n",
              "      <td>-0.124336</td>\n",
              "      <td>-0.222496</td>\n",
              "      <td>0.255065</td>\n",
              "      <td>0.117749</td>\n",
              "      <td>NaN</td>\n",
              "      <td>NaN</td>\n",
              "    </tr>\n",
              "    <tr>\n",
              "      <th>Active</th>\n",
              "      <td>0.004222</td>\n",
              "      <td>-0.070440</td>\n",
              "      <td>-0.010167</td>\n",
              "      <td>0.112957</td>\n",
              "      <td>-0.340422</td>\n",
              "      <td>-0.142949</td>\n",
              "      <td>-0.055934</td>\n",
              "      <td>-0.419089</td>\n",
              "      <td>-0.154532</td>\n",
              "      <td>0.770414</td>\n",
              "      <td>0.856974</td>\n",
              "      <td>0.559083</td>\n",
              "      <td>1.000000</td>\n",
              "      <td>-0.070881</td>\n",
              "      <td>0.560082</td>\n",
              "      <td>0.120220</td>\n",
              "      <td>0.127237</td>\n",
              "      <td>0.053390</td>\n",
              "      <td>NaN</td>\n",
              "      <td>NaN</td>\n",
              "    </tr>\n",
              "    <tr>\n",
              "      <th>Combined_Key</th>\n",
              "      <td>0.025087</td>\n",
              "      <td>0.116130</td>\n",
              "      <td>0.754958</td>\n",
              "      <td>0.740434</td>\n",
              "      <td>0.107232</td>\n",
              "      <td>-0.272086</td>\n",
              "      <td>0.602863</td>\n",
              "      <td>0.079319</td>\n",
              "      <td>-0.391928</td>\n",
              "      <td>-0.271907</td>\n",
              "      <td>-0.253300</td>\n",
              "      <td>-0.320575</td>\n",
              "      <td>-0.070881</td>\n",
              "      <td>1.000000</td>\n",
              "      <td>0.122440</td>\n",
              "      <td>0.193159</td>\n",
              "      <td>-0.341133</td>\n",
              "      <td>-0.018378</td>\n",
              "      <td>NaN</td>\n",
              "      <td>NaN</td>\n",
              "    </tr>\n",
              "    <tr>\n",
              "      <th>Incidence_Rate</th>\n",
              "      <td>-0.002512</td>\n",
              "      <td>0.346470</td>\n",
              "      <td>0.101650</td>\n",
              "      <td>0.211753</td>\n",
              "      <td>-0.579516</td>\n",
              "      <td>-0.593826</td>\n",
              "      <td>-0.065257</td>\n",
              "      <td>-0.729872</td>\n",
              "      <td>-0.708004</td>\n",
              "      <td>0.093648</td>\n",
              "      <td>0.198202</td>\n",
              "      <td>-0.124336</td>\n",
              "      <td>0.560082</td>\n",
              "      <td>0.122440</td>\n",
              "      <td>1.000000</td>\n",
              "      <td>0.244246</td>\n",
              "      <td>0.046886</td>\n",
              "      <td>-0.032046</td>\n",
              "      <td>NaN</td>\n",
              "      <td>NaN</td>\n",
              "    </tr>\n",
              "    <tr>\n",
              "      <th>Case_Fatality_Ratio</th>\n",
              "      <td>0.048891</td>\n",
              "      <td>0.243501</td>\n",
              "      <td>0.119565</td>\n",
              "      <td>0.226697</td>\n",
              "      <td>0.018204</td>\n",
              "      <td>-0.492662</td>\n",
              "      <td>-0.109832</td>\n",
              "      <td>0.029658</td>\n",
              "      <td>-0.587269</td>\n",
              "      <td>-0.125535</td>\n",
              "      <td>0.112229</td>\n",
              "      <td>-0.222496</td>\n",
              "      <td>0.120220</td>\n",
              "      <td>0.193159</td>\n",
              "      <td>0.244246</td>\n",
              "      <td>1.000000</td>\n",
              "      <td>-0.192215</td>\n",
              "      <td>-0.115326</td>\n",
              "      <td>NaN</td>\n",
              "      <td>NaN</td>\n",
              "    </tr>\n",
              "    <tr>\n",
              "      <th>date_confirmationmonth</th>\n",
              "      <td>-0.097386</td>\n",
              "      <td>-0.252061</td>\n",
              "      <td>-0.344225</td>\n",
              "      <td>-0.390803</td>\n",
              "      <td>-0.311833</td>\n",
              "      <td>0.164165</td>\n",
              "      <td>-0.319748</td>\n",
              "      <td>-0.284430</td>\n",
              "      <td>0.227520</td>\n",
              "      <td>0.238993</td>\n",
              "      <td>0.189763</td>\n",
              "      <td>0.255065</td>\n",
              "      <td>0.127237</td>\n",
              "      <td>-0.341133</td>\n",
              "      <td>0.046886</td>\n",
              "      <td>-0.192215</td>\n",
              "      <td>1.000000</td>\n",
              "      <td>-0.176780</td>\n",
              "      <td>NaN</td>\n",
              "      <td>NaN</td>\n",
              "    </tr>\n",
              "    <tr>\n",
              "      <th>date_confirmationday</th>\n",
              "      <td>-0.006856</td>\n",
              "      <td>-0.103120</td>\n",
              "      <td>-0.031403</td>\n",
              "      <td>-0.044370</td>\n",
              "      <td>0.015119</td>\n",
              "      <td>0.112945</td>\n",
              "      <td>-0.009667</td>\n",
              "      <td>-0.004410</td>\n",
              "      <td>0.113280</td>\n",
              "      <td>0.108307</td>\n",
              "      <td>0.077521</td>\n",
              "      <td>0.117749</td>\n",
              "      <td>0.053390</td>\n",
              "      <td>-0.018378</td>\n",
              "      <td>-0.032046</td>\n",
              "      <td>-0.115326</td>\n",
              "      <td>-0.176780</td>\n",
              "      <td>1.000000</td>\n",
              "      <td>NaN</td>\n",
              "      <td>NaN</td>\n",
              "    </tr>\n",
              "    <tr>\n",
              "      <th>Last_Updatemonth</th>\n",
              "      <td>NaN</td>\n",
              "      <td>NaN</td>\n",
              "      <td>NaN</td>\n",
              "      <td>NaN</td>\n",
              "      <td>NaN</td>\n",
              "      <td>NaN</td>\n",
              "      <td>NaN</td>\n",
              "      <td>NaN</td>\n",
              "      <td>NaN</td>\n",
              "      <td>NaN</td>\n",
              "      <td>NaN</td>\n",
              "      <td>NaN</td>\n",
              "      <td>NaN</td>\n",
              "      <td>NaN</td>\n",
              "      <td>NaN</td>\n",
              "      <td>NaN</td>\n",
              "      <td>NaN</td>\n",
              "      <td>NaN</td>\n",
              "      <td>NaN</td>\n",
              "      <td>NaN</td>\n",
              "    </tr>\n",
              "    <tr>\n",
              "      <th>Last_Updateday</th>\n",
              "      <td>NaN</td>\n",
              "      <td>NaN</td>\n",
              "      <td>NaN</td>\n",
              "      <td>NaN</td>\n",
              "      <td>NaN</td>\n",
              "      <td>NaN</td>\n",
              "      <td>NaN</td>\n",
              "      <td>NaN</td>\n",
              "      <td>NaN</td>\n",
              "      <td>NaN</td>\n",
              "      <td>NaN</td>\n",
              "      <td>NaN</td>\n",
              "      <td>NaN</td>\n",
              "      <td>NaN</td>\n",
              "      <td>NaN</td>\n",
              "      <td>NaN</td>\n",
              "      <td>NaN</td>\n",
              "      <td>NaN</td>\n",
              "      <td>NaN</td>\n",
              "      <td>NaN</td>\n",
              "    </tr>\n",
              "  </tbody>\n",
              "</table>\n",
              "</div>"
            ],
            "text/plain": [
              "                             age       sex  ...  Last_Updatemonth  Last_Updateday\n",
              "age                     1.000000 -0.002755  ...               NaN             NaN\n",
              "sex                    -0.002755  1.000000  ...               NaN             NaN\n",
              "province                0.010572  0.166027  ...               NaN             NaN\n",
              "country                 0.035316  0.210179  ...               NaN             NaN\n",
              "latitude                0.109761 -0.271898  ...               NaN             NaN\n",
              "longitude              -0.017569 -0.627608  ...               NaN             NaN\n",
              "source                  0.011560 -0.070075  ...               NaN             NaN\n",
              "Lat                     0.071072 -0.170920  ...               NaN             NaN\n",
              "Long_                  -0.042255 -0.584783  ...               NaN             NaN\n",
              "Confirmed              -0.026805 -0.326455  ...               NaN             NaN\n",
              "Deaths                 -0.010320 -0.270150  ...               NaN             NaN\n",
              "Recovered              -0.036982 -0.392480  ...               NaN             NaN\n",
              "Active                  0.004222 -0.070440  ...               NaN             NaN\n",
              "Combined_Key            0.025087  0.116130  ...               NaN             NaN\n",
              "Incidence_Rate         -0.002512  0.346470  ...               NaN             NaN\n",
              "Case_Fatality_Ratio     0.048891  0.243501  ...               NaN             NaN\n",
              "date_confirmationmonth -0.097386 -0.252061  ...               NaN             NaN\n",
              "date_confirmationday   -0.006856 -0.103120  ...               NaN             NaN\n",
              "Last_Updatemonth             NaN       NaN  ...               NaN             NaN\n",
              "Last_Updateday               NaN       NaN  ...               NaN             NaN\n",
              "\n",
              "[20 rows x 20 columns]"
            ]
          },
          "metadata": {
            "tags": []
          },
          "execution_count": 113
        }
      ]
    },
    {
      "cell_type": "code",
      "metadata": {
        "colab": {
          "base_uri": "https://localhost:8080/",
          "height": 265
        },
        "id": "qR_0gYY7oz8P",
        "outputId": "8d79a300-be70-4330-ca80-a20122d35930"
      },
      "source": [
        "plt.hist(data['sex'])\n",
        "plt.show()"
      ],
      "execution_count": 114,
      "outputs": [
        {
          "output_type": "display_data",
          "data": {
            "image/png": "[encoded data removed]",
            "text/plain": [
              "<Figure size 432x288 with 1 Axes>"
            ]
          },
          "metadata": {
            "tags": [],
            "needs_background": "light"
          }
        }
      ]
    },
    {
      "cell_type": "code",
      "metadata": {
        "colab": {
          "base_uri": "https://localhost:8080/",
          "height": 269
        },
        "id": "SB6s4v0Ooz8Q",
        "outputId": "a6f44ca7-c4bc-40e1-d06f-af27196c234c"
      },
      "source": [
        "plt.hist(y)\n",
        "plt.show()"
      ],
      "execution_count": 115,
      "outputs": [
        {
          "output_type": "display_data",
          "data": {
            "image/png": "[encoded data removed]",
            "text/plain": [
              "<Figure size 432x288 with 1 Axes>"
            ]
          },
          "metadata": {
            "tags": [],
            "needs_background": "light"
          }
        }
      ]
    },
    {
      "cell_type": "code",
      "metadata": {
        "id": "oDlBhzsSoz8R"
      },
      "source": [
        "from sklearn.preprocessing import StandardScaler"
      ],
      "execution_count": 116,
      "outputs": []
    },
    {
      "cell_type": "code",
      "metadata": {
        "id": "p9VIOKRpoz8R"
      },
      "source": [
        "sca=StandardScaler()\n",
        "X=sca.fit_transform(X)"
      ],
      "execution_count": 117,
      "outputs": []
    },
    {
      "cell_type": "code",
      "metadata": {
        "id": "e96iNqz9oz8S"
      },
      "source": [
        "X_train, X_val, y_train, y_val = train_test_split( X, y, test_size=0.2, random_state=42)"
      ],
      "execution_count": 118,
      "outputs": []
    },
    {
      "cell_type": "markdown",
      "metadata": {
        "id": "iHRXz6iroz8T"
      },
      "source": [
        "3.build model"
      ]
    },
    {
      "cell_type": "code",
      "metadata": {
        "id": "2Wux_w_goz8T"
      },
      "source": [
        "import lightgbm as lgb\n",
        "from sklearn.svm import SVC\n",
        "from sklearn.metrics import accuracy_score\n",
        "from sklearn.metrics import f1_score\n",
        "\n",
        "from sklearn.neural_network import MLPClassifier\n",
        "import math\n",
        "import pickle"
      ],
      "execution_count": 119,
      "outputs": []
    },
    {
      "cell_type": "code",
      "metadata": {
        "id": "OB_awPQBoz8U"
      },
      "source": [
        "def model_lgb_train(trainX,trainy,params):\n",
        "    model=lgb.LGBMClassifier(**params)\n",
        "    model.fit(trainX,trainy,early_stopping_rounds=30,eval_set=[(X_train, y_train),(X_val, y_val)],verbose=0)\n",
        "    return model\n",
        "\n",
        "def model_lgb_val(valX,model):\n",
        "    pred=model.predict(valX)\n",
        "    return pred"
      ],
      "execution_count": null,
      "outputs": []
    },
    {
      "cell_type": "code",
      "metadata": {
        "id": "GI88S2CPoz8V"
      },
      "source": [
        "def model_svr_train(trainX,trainy,params):\n",
        "    model=SVC(**params)\n",
        "    model.fit(trainX,trainy)\n",
        "    return model\n",
        "\n",
        "def model_svr_val(valX,model):\n",
        "    pred=model.predict(valX)\n",
        "    return pred"
      ],
      "execution_count": 125,
      "outputs": []
    },
    {
      "cell_type": "code",
      "metadata": {
        "id": "LKelh8hOoz8W"
      },
      "source": [
        "def model_mlp_train(trainX,trainy,params):\n",
        "    model=MLPClassifier(**params)\n",
        "    model.fit(trainX,trainy)\n",
        "    return model\n",
        "\n",
        "def model_mlp_val(valX,model):\n",
        "    pred=model.predict(valX)\n",
        "    return pred"
      ],
      "execution_count": 121,
      "outputs": []
    },
    {
      "cell_type": "code",
      "metadata": {
        "id": "03meVZCdoz8X"
      },
      "source": [
        "params_lgb={ 'boosting_type':'gbdt','objective':'binary',\n",
        "            'learning_rate':0.1, 'n_estimators':500, 'max_depth':5,\n",
        "            'metric':'binary_logloss', 'bagging_fraction':0.8, 'feature_fraction':0.8, 'reg_lambda':0.9,'verbose':1000,'silent':False\n",
        "}\n",
        "\n",
        "params_svr={\n",
        "    'kernel' :'rbf','degree' : 3,'gamma' :'auto','tol' : 0.001\n",
        "}\n",
        "\n",
        "params_mlp={\n",
        "    'hidden_layer_sizes':(100,50), 'activation':'relu','solver':'adam',\n",
        "    'alpha':0.02,'max_iter':200\n",
        "}"
      ],
      "execution_count": 122,
      "outputs": []
    },
    {
      "cell_type": "code",
      "metadata": {
        "colab": {
          "base_uri": "https://localhost:8080/"
        },
        "id": "cr2mHDLBoz8Y",
        "outputId": "e7b4de7b-9b0c-4f1d-d9d0-009e60282812"
      },
      "source": [
        "model_lgb=model_lgb_train(X_train, y_train,params_lgb)\n",
        "output = open('./models/lgb_classifier.pkl', 'wb')\n",
        "pickle.dump(model_lgb, output)\n",
        "output.close()\n",
        "model_lgb=pickle.load(open('./models/lgb_classifier.pkl', 'rb'))\n",
        "pred_lgb_val=model_lgb_val(X_val,model_lgb)\n",
        "pred_lgb_train=model_lgb_val(X_train,model_lgb)\n",
        "print('the train acc of lgb is '+str(accuracy_score(pred_lgb_train,y_train)))\n",
        "print('the train f1 of lgb is '+str(f1_score(pred_lgb_train,y_train)))\n",
        "\n",
        "print('the val acc of lgb is '+str(accuracy_score(pred_lgb_val,y_val)))\n",
        "print('the  val f1 of lgb is '+str(f1_score(pred_lgb_val,y_val)))"
      ],
      "execution_count": 123,
      "outputs": [
        {
          "output_type": "stream",
          "text": [
            "the train acc of lgb is 0.8876399471845515\n",
            "the train f1 of lgb is 0.8440141870378591\n",
            "the val acc of lgb is 0.8839573075124474\n",
            "the  val f1 of lgb is 0.8390591915762167\n"
          ],
          "name": "stdout"
        }
      ]
    },
    {
      "cell_type": "code",
      "metadata": {
        "colab": {
          "base_uri": "https://localhost:8080/"
        },
        "id": "X4VRz-wKoz8a",
        "outputId": "c6f75c7a-0578-41c1-e388-469f9f320c76"
      },
      "source": [
        "model_svr=model_svr_train(X_train, y_train,params_svr)\n",
        "output = open('./models/svc_classifier.pkl', 'wb')\n",
        "pickle.dump(model_svr, output)\n",
        "output.close()\n",
        "model_svr=pickle.load(open('./models/svc_classifier.pkl', 'rb'))\n",
        "pred_svr_val=model_svr_val(X_val,model_svr)\n",
        "pred_svr_train=model_svr_val(X_train,model_svr)\n",
        "\n",
        "print('the train acc of svm is '+str(accuracy_score(pred_svr_train,y_train)))\n",
        "print('the train f1 of svm is '+str(f1_score(pred_svr_train,y_train)))\n",
        "\n",
        "print('the val acc of svm is '+str(accuracy_score(pred_svr_val,y_val)))\n",
        "print('the  val f1 of svm is '+str(f1_score(pred_svr_val,y_val)))"
      ],
      "execution_count": null,
      "outputs": [
        {
          "output_type": "stream",
          "text": [
            "the train acc of svr is 0.8186119439936181\n",
            "the train f1 of svr is 0.7447722632398904\n",
            "the val acc of svr is 0.8178829807718758\n",
            "the  val f1 of svr is 0.7435654110583906\n"
          ],
          "name": "stdout"
        }
      ]
    },
    {
      "cell_type": "code",
      "metadata": {
        "colab": {
          "base_uri": "https://localhost:8080/"
        },
        "id": "gcUeGQCIoz8b",
        "outputId": "46dfec2d-9272-4120-b30e-8b17a4410547"
      },
      "source": [
        "model_mlp=model_mlp_train(X_train, y_train,params_mlp)\n",
        "output = open('./models/mlp_classifier.pkl', 'wb')\n",
        "pickle.dump(model_mlp, output)\n",
        "output.close()\n",
        "model_mlp=pickle.load(open('./models/mlp_classifier.pkl', 'rb'))\n",
        "pred_mlp_val=model_mlp_val(X_val,model_mlp)\n",
        "pred_mlp_train=model_mlp_val(X_train,model_mlp)\n",
        "\n",
        "print('the train acc of mlp is '+str(accuracy_score(pred_mlp_train,y_train)))\n",
        "print('the train f1 of mlp is '+str(f1_score(pred_mlp_train,y_train)))\n",
        "\n",
        "print('the val acc of mlp is '+str(accuracy_score(pred_mlp_val,y_val)))\n",
        "print('the  val f1 of mlp is '+str(f1_score(pred_mlp_val,y_val)))"
      ],
      "execution_count": null,
      "outputs": [
        {
          "output_type": "stream",
          "text": [
            "the train acc of mlp is 0.85297980909416\n",
            "the train f1 of mlp is 0.8088329316874047\n",
            "the val acc of mlp is 0.8508926360960581\n",
            "the  val f1 of mlp is 0.8059151046422114\n"
          ],
          "name": "stdout"
        }
      ]
    },
    {
      "cell_type": "code",
      "metadata": {
        "colab": {
          "base_uri": "https://localhost:8080/",
          "height": 391
        },
        "id": "JljGKpXIoz8c",
        "outputId": "d8a96f18-6a5c-416b-cec4-81713b1e3aa1"
      },
      "source": [
        "fig = plt.figure(figsize=(8,6))\n",
        "\n",
        "sns.barplot(['train_lgb','val_lgb','train_svm','val_svm','train_mlp','val_mlp']\n",
        "            ,[accuracy_score(pred_lgb_train,y_train),accuracy_score(pred_lgb_val,y_val),\n",
        "              accuracy_score(pred_svr_train,y_train),accuracy_score(pred_svr_val,y_val),\n",
        "              accuracy_score(pred_mlp_train,y_train),accuracy_score(pred_mlp_val,y_val),\n",
        "             ])\n",
        "\n",
        "plt.title('the acc of three models')\n",
        "\n",
        "plt.savefig('./plots/accuracy.png')"
      ],
      "execution_count": 126,
      "outputs": [
        {
          "output_type": "display_data",
          "data": {
            "image/png": "[encoded data removed]",
            "text/plain": [
              "<Figure size 576x432 with 1 Axes>"
            ]
          },
          "metadata": {
            "tags": [],
            "needs_background": "light"
          }
        }
      ]
    },
    {
      "cell_type": "code",
      "metadata": {
        "colab": {
          "base_uri": "https://localhost:8080/",
          "height": 391
        },
        "id": "1K_CXgM5oz8e",
        "outputId": "9c9451b6-72ce-4fed-881e-d2d0ff4931a8"
      },
      "source": [
        "fig = plt.figure(figsize=(8,6))\n",
        "\n",
        "sns.barplot(['train_lgb','val_lgb','train_svm','val_svm','train_mlp','val_mlp']\n",
        "            ,[f1_score(pred_lgb_train,y_train),f1_score(pred_lgb_val,y_val),\n",
        "              f1_score(pred_svr_train,y_train),f1_score(pred_svr_val,y_val),\n",
        "              f1_score(pred_mlp_train,y_train),f1_score(pred_mlp_val,y_val),\n",
        "             ])\n",
        "\n",
        "plt.title('the f1_score of three models')\n",
        "\n",
        "plt.savefig('./plots/f1_score.png')"
      ],
      "execution_count": 127,
      "outputs": [
        {
          "output_type": "display_data",
          "data": {
            "image/png": "[encoded data removed]",
            "text/plain": [
              "<Figure size 576x432 with 1 Axes>"
            ]
          },
          "metadata": {
            "tags": [],
            "needs_background": "light"
          }
        }
      ]
    },
    {
      "cell_type": "code",
      "metadata": {
        "id": "3ijnzPX1oz8g"
      },
      "source": [
        "params_lgb1={ 'boosting_type':'gbdt','objective':'binary',\n",
        "            'learning_rate':0.3, 'n_estimators':500, 'max_depth':5,\n",
        "            'metric':'binary_logloss', 'bagging_fraction':0.8, 'feature_fraction':0.8, 'reg_lambda':0.9,'verbose':0,\n",
        "}\n",
        "\n",
        "params_svr1={\n",
        "    'kernel' :'linear','degree' : 5,'gamma' :'auto','tol' : 0.001\n",
        "}\n",
        "\n",
        "params_mlp1={\n",
        "    'hidden_layer_sizes':(100,50), 'activation':'relu','solver':'adam',\n",
        "    'alpha':0.1,'max_iter':400\n",
        "}"
      ],
      "execution_count": null,
      "outputs": []
    },
    {
      "cell_type": "code",
      "metadata": {
        "colab": {
          "base_uri": "https://localhost:8080/"
        },
        "id": "DvkTby-1oz8h",
        "outputId": "2446f70c-00e4-430e-d7b8-5c99622ea744"
      },
      "source": [
        "model_lgb=model_lgb_train(X_train, y_train,params_lgb1)\n",
        "pred_lgb_val=model_lgb_val(X_val,model_lgb)\n",
        "pred_lgb_train=model_lgb_val(X_train,model_lgb)\n",
        "print('the train acc of lgb1 is '+str(accuracy_score(pred_lgb_train,y_train)))\n",
        "print('the train f1 of lgb1 is '+str(f1_score(pred_lgb_train,y_train)))\n",
        "\n",
        "print('the val acc of lgb1 is '+str(accuracy_score(pred_lgb_val,y_val)))\n",
        "print('the  val f1 of lgb1 is '+str(f1_score(pred_lgb_val,y_val)))"
      ],
      "execution_count": null,
      "outputs": [
        {
          "output_type": "stream",
          "text": [
            "the train acc of lgb1 is 0.9001423541385856\n",
            "the train f1 of lgb1 is 0.859573027731438\n",
            "the val acc of lgb1 is 0.8944928891700823\n",
            "the  val f1 of lgb1 is 0.8516677946437203\n"
          ],
          "name": "stdout"
        }
      ]
    },
    {
      "cell_type": "code",
      "metadata": {
        "colab": {
          "base_uri": "https://localhost:8080/"
        },
        "id": "NY62DLAjoz8i",
        "outputId": "ac3229ea-9812-4b93-8cdd-d4208d62d9d0"
      },
      "source": [
        "model_svr=model_svr_train(X_train, y_train,params_svr1)\n",
        "pred_svr_val=model_svr_val(X_val,model_svr)\n",
        "pred_svr_train=model_svr_val(X_train,model_svr)\n",
        "\n",
        "print('the train acc of svm1 is '+str(accuracy_score(pred_svr_train,y_train)))\n",
        "print('the train f1 of svm1 is '+str(f1_score(pred_svr_train,y_train)))\n",
        "\n",
        "print('the val acc of svm1 is '+str(accuracy_score(pred_svr_val,y_val)))\n",
        "print('the  val f1 of svm1 is '+str(f1_score(pred_svr_val,y_val)))"
      ],
      "execution_count": null,
      "outputs": [
        {
          "output_type": "stream",
          "text": [
            "the train acc of svc1 is 0.7721646081478832\n",
            "the train f1 of svc1 is 0.7368400149333164\n",
            "the val acc of svc1 is 0.7704040931972602\n",
            "the  val f1 of svc1 is 0.7348254991977888\n"
          ],
          "name": "stdout"
        }
      ]
    },
    {
      "cell_type": "code",
      "metadata": {
        "colab": {
          "base_uri": "https://localhost:8080/"
        },
        "id": "b5aE7CZmoz8j",
        "outputId": "44ad14ec-c2bd-4145-bd1b-4e4a6fe9cb64"
      },
      "source": [
        "model_mlp=model_mlp_train(X_train, y_train,params_mlp1)\n",
        "pred_mlp_val=model_mlp_val(X_val,model_mlp)\n",
        "pred_mlp_train=model_mlp_val(X_train,model_mlp)\n",
        "\n",
        "print('the train acc of mlp1 is '+str(accuracy_score(pred_mlp_train,y_train)))\n",
        "print('the train f1 of mlp1 is '+str(f1_score(pred_mlp_train,y_train)))\n",
        "\n",
        "print('the val acc of mlp1 is '+str(accuracy_score(pred_mlp_val,y_val)))\n",
        "print('the  val f1 of mlp1 is '+str(f1_score(pred_mlp_val,y_val)))"
      ],
      "execution_count": null,
      "outputs": [
        {
          "output_type": "stream",
          "text": [
            "the train acc of mlp1 is 0.837056088906005\n",
            "the train f1 of mlp1 is 0.7741578816935775\n",
            "the val acc of mlp1 is 0.8366847302836079\n",
            "the  val f1 of mlp1 is 0.7734488285125544\n"
          ],
          "name": "stdout"
        }
      ]
    },
    {
      "cell_type": "code",
      "metadata": {
        "id": "k005xdogoz8k"
      },
      "source": [
        ""
      ],
      "execution_count": null,
      "outputs": []
    }
  ]
}